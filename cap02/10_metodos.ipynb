{
 "cells": [
  {
   "cell_type": "markdown",
   "id": "f2c9602b-075b-4976-b702-845e1c7bb74e",
   "metadata": {},
   "source": [
    "### Métodos em Pyhton"
   ]
  },
  {
   "cell_type": "code",
   "execution_count": 1,
   "id": "1998e4b6-3097-4949-abce-5ea1307bddbe",
   "metadata": {},
   "outputs": [],
   "source": [
    "## tudo em python é um objeto, logo se é objeto tem método"
   ]
  },
  {
   "cell_type": "code",
   "execution_count": 2,
   "id": "2402372b-3a78-4fda-bc86-e1c5d11d0aea",
   "metadata": {},
   "outputs": [],
   "source": [
    "# Criando uma lista \n",
    "lista = [100,-2,12,65,0]"
   ]
  },
  {
   "cell_type": "code",
   "execution_count": 3,
   "id": "b2c1a2e7-97ba-434f-b5d1-fb7573e13ebd",
   "metadata": {},
   "outputs": [
    {
     "data": {
      "text/plain": [
       "list"
      ]
     },
     "execution_count": 3,
     "metadata": {},
     "output_type": "execute_result"
    }
   ],
   "source": [
    "type(lista)"
   ]
  },
  {
   "cell_type": "code",
   "execution_count": 4,
   "id": "b11f2fc9-fa79-4d61-80bd-9cbd1b81ca4a",
   "metadata": {},
   "outputs": [],
   "source": [
    "lista.append(100)"
   ]
  },
  {
   "cell_type": "code",
   "execution_count": 5,
   "id": "1b8dfc8d-2bce-40e1-93d7-5a4b7ea13b85",
   "metadata": {},
   "outputs": [
    {
     "name": "stdout",
     "output_type": "stream",
     "text": [
      "[100, -2, 12, 65, 0, 100]\n"
     ]
    }
   ],
   "source": [
    "print(lista)"
   ]
  },
  {
   "cell_type": "code",
   "execution_count": 6,
   "id": "f108dd2f-2cbf-4d81-b0e3-9b56f9800b67",
   "metadata": {},
   "outputs": [
    {
     "data": {
      "text/plain": [
       "2"
      ]
     },
     "execution_count": 6,
     "metadata": {},
     "output_type": "execute_result"
    }
   ],
   "source": [
    "lista.count(100)"
   ]
  },
  {
   "cell_type": "code",
   "execution_count": 7,
   "id": "471e04fc-88e2-4b36-b91f-7ec258375c90",
   "metadata": {},
   "outputs": [
    {
     "name": "stdout",
     "output_type": "stream",
     "text": [
      "Help on built-in function count:\n",
      "\n",
      "count(value, /) method of builtins.list instance\n",
      "    Return number of occurrences of value.\n",
      "\n"
     ]
    }
   ],
   "source": [
    "# funçaõ help\n",
    "help(lista.count)"
   ]
  },
  {
   "cell_type": "code",
   "execution_count": 8,
   "id": "8c502efe-4ab9-4e82-b7a8-53efe1ddd8e9",
   "metadata": {},
   "outputs": [
    {
     "data": {
      "text/plain": [
       "['__add__',\n",
       " '__class__',\n",
       " '__class_getitem__',\n",
       " '__contains__',\n",
       " '__delattr__',\n",
       " '__delitem__',\n",
       " '__dir__',\n",
       " '__doc__',\n",
       " '__eq__',\n",
       " '__format__',\n",
       " '__ge__',\n",
       " '__getattribute__',\n",
       " '__getitem__',\n",
       " '__getstate__',\n",
       " '__gt__',\n",
       " '__hash__',\n",
       " '__iadd__',\n",
       " '__imul__',\n",
       " '__init__',\n",
       " '__init_subclass__',\n",
       " '__iter__',\n",
       " '__le__',\n",
       " '__len__',\n",
       " '__lt__',\n",
       " '__mul__',\n",
       " '__ne__',\n",
       " '__new__',\n",
       " '__reduce__',\n",
       " '__reduce_ex__',\n",
       " '__repr__',\n",
       " '__reversed__',\n",
       " '__rmul__',\n",
       " '__setattr__',\n",
       " '__setitem__',\n",
       " '__sizeof__',\n",
       " '__str__',\n",
       " '__subclasshook__',\n",
       " 'append',\n",
       " 'clear',\n",
       " 'copy',\n",
       " 'count',\n",
       " 'extend',\n",
       " 'index',\n",
       " 'insert',\n",
       " 'pop',\n",
       " 'remove',\n",
       " 'reverse',\n",
       " 'sort']"
      ]
     },
     "execution_count": 8,
     "metadata": {},
     "output_type": "execute_result"
    }
   ],
   "source": [
    "# função dir() mostra todos os metodos\n",
    "dir(lista)"
   ]
  },
  {
   "cell_type": "code",
   "execution_count": 9,
   "id": "4d73185f-7007-45ae-a752-ff465513cb6b",
   "metadata": {},
   "outputs": [],
   "source": [
    "frase = 'Isso é uma string'"
   ]
  },
  {
   "cell_type": "code",
   "execution_count": 10,
   "id": "17f5cbc7-400b-43c0-80ef-a625038778ab",
   "metadata": {},
   "outputs": [
    {
     "data": {
      "text/plain": [
       "str"
      ]
     },
     "execution_count": 10,
     "metadata": {},
     "output_type": "execute_result"
    }
   ],
   "source": [
    "type(frase)"
   ]
  },
  {
   "cell_type": "code",
   "execution_count": 11,
   "id": "29b2915d-2aee-459d-af5e-7e6272d11371",
   "metadata": {},
   "outputs": [
    {
     "data": {
      "text/plain": [
       "'Isso é uma string'"
      ]
     },
     "execution_count": 11,
     "metadata": {},
     "output_type": "execute_result"
    }
   ],
   "source": [
    "frase"
   ]
  },
  {
   "cell_type": "code",
   "execution_count": 13,
   "id": "07073047-afe1-46cf-9950-0734fa2c5930",
   "metadata": {},
   "outputs": [
    {
     "name": "stdout",
     "output_type": "stream",
     "text": [
      "['Isso', 'é', 'uma', 'string']\n"
     ]
    }
   ],
   "source": [
    "# metodo de um objeto pode ser chamado dentro de uma função, print()\n",
    "print(frase.split())"
   ]
  },
  {
   "cell_type": "code",
   "execution_count": null,
   "id": "5f56ae30-8abe-45a7-b2c2-19fcab4c530e",
   "metadata": {},
   "outputs": [],
   "source": []
  }
 ],
 "metadata": {
  "kernelspec": {
   "display_name": "Python 3 (ipykernel)",
   "language": "python",
   "name": "python3"
  },
  "language_info": {
   "codemirror_mode": {
    "name": "ipython",
    "version": 3
   },
   "file_extension": ".py",
   "mimetype": "text/x-python",
   "name": "python",
   "nbconvert_exporter": "python",
   "pygments_lexer": "ipython3",
   "version": "3.12.7"
  }
 },
 "nbformat": 4,
 "nbformat_minor": 5
}

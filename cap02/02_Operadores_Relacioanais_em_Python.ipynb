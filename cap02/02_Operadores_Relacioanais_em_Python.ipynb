{
 "cells": [
  {
   "cell_type": "markdown",
   "id": "9c9ad132-2be4-498b-97fa-ea0d0e169a78",
   "metadata": {},
   "source": [
    "### Operadores Relacionais"
   ]
  },
  {
   "cell_type": "code",
   "execution_count": 1,
   "id": "7cb1ecfe-91e4-4a45-add5-73b0c67df116",
   "metadata": {},
   "outputs": [],
   "source": [
    "# São os sinais > , <, == e !=, >=, =<\n",
    "# retorna um valor booliano: True e False"
   ]
  },
  {
   "cell_type": "code",
   "execution_count": 2,
   "id": "dca4e1c0-f927-4647-a888-13b9ec0627a4",
   "metadata": {},
   "outputs": [
    {
     "data": {
      "text/plain": [
       "True"
      ]
     },
     "execution_count": 2,
     "metadata": {},
     "output_type": "execute_result"
    }
   ],
   "source": [
    "6 > 3 "
   ]
  },
  {
   "cell_type": "code",
   "execution_count": 3,
   "id": "ee62beb0-ee65-4cab-947d-d5ca826e9250",
   "metadata": {},
   "outputs": [
    {
     "data": {
      "text/plain": [
       "False"
      ]
     },
     "execution_count": 3,
     "metadata": {},
     "output_type": "execute_result"
    }
   ],
   "source": [
    "3 > 7"
   ]
  },
  {
   "cell_type": "code",
   "execution_count": 4,
   "id": "d0433d74-6fab-4084-80b1-624519e120f3",
   "metadata": {},
   "outputs": [
    {
     "data": {
      "text/plain": [
       "True"
      ]
     },
     "execution_count": 4,
     "metadata": {},
     "output_type": "execute_result"
    }
   ],
   "source": [
    "4 < 8"
   ]
  },
  {
   "cell_type": "code",
   "execution_count": 5,
   "id": "41947a88-e36c-4d20-8027-95bc039a513e",
   "metadata": {},
   "outputs": [
    {
     "data": {
      "text/plain": [
       "True"
      ]
     },
     "execution_count": 5,
     "metadata": {},
     "output_type": "execute_result"
    }
   ],
   "source": [
    "4 >= 4"
   ]
  },
  {
   "cell_type": "code",
   "execution_count": 6,
   "id": "df43c058-0c64-4267-bc74-9aa197acd0e5",
   "metadata": {},
   "outputs": [
    {
     "name": "stdout",
     "output_type": "stream",
     "text": [
      "Testando Python\n"
     ]
    }
   ],
   "source": [
    "if 5 == 5:\n",
    "    print(\"Testando Python\")"
   ]
  },
  {
   "cell_type": "code",
   "execution_count": 7,
   "id": "32f93144-dee0-410e-bc52-b579aaece9f3",
   "metadata": {},
   "outputs": [
    {
     "name": "stdout",
     "output_type": "stream",
     "text": [
      "Parece que Python funciona\n"
     ]
    }
   ],
   "source": [
    "if True:\n",
    "    print(\"Parece que Python funciona\")"
   ]
  },
  {
   "cell_type": "code",
   "execution_count": 8,
   "id": "8b20ce85-21eb-4e77-9edf-f5119901957a",
   "metadata": {},
   "outputs": [
    {
     "ename": "SyntaxError",
     "evalue": "expected ':' (478982677.py, line 2)",
     "output_type": "error",
     "traceback": [
      "\u001b[0;36m  Cell \u001b[0;32mIn[8], line 2\u001b[0;36m\u001b[0m\n\u001b[0;31m    if 4 > 3\u001b[0m\n\u001b[0m            ^\u001b[0m\n\u001b[0;31mSyntaxError\u001b[0m\u001b[0;31m:\u001b[0m expected ':'\n"
     ]
    }
   ],
   "source": [
    "#Atenção com a sintaxe\n",
    "if 4 > 3\n",
    "print('Tudo funciona')"
   ]
  },
  {
   "cell_type": "code",
   "execution_count": 10,
   "id": "453f7e18-1295-49be-a29f-a49281a7c06b",
   "metadata": {},
   "outputs": [
    {
     "name": "stdout",
     "output_type": "stream",
     "text": [
      "Tudo funciona\n"
     ]
    }
   ],
   "source": [
    "#Atenção com a sintaxe\n",
    "if 4 > 3:\n",
    "    print('Tudo funciona')"
   ]
  },
  {
   "cell_type": "code",
   "execution_count": null,
   "id": "b074d4e9-6ea6-46d5-ad9f-b36141c34396",
   "metadata": {},
   "outputs": [],
   "source": []
  }
 ],
 "metadata": {
  "kernelspec": {
   "display_name": "Python 3 (ipykernel)",
   "language": "python",
   "name": "python3"
  },
  "language_info": {
   "codemirror_mode": {
    "name": "ipython",
    "version": 3
   },
   "file_extension": ".py",
   "mimetype": "text/x-python",
   "name": "python",
   "nbconvert_exporter": "python",
   "pygments_lexer": "ipython3",
   "version": "3.12.7"
  }
 },
 "nbformat": 4,
 "nbformat_minor": 5
}

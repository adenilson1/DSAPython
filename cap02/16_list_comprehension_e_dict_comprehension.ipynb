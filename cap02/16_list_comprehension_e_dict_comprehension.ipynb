{
 "cells": [
  {
   "cell_type": "markdown",
   "id": "2a3e3fbd-0bed-416e-97a2-4821a765ae6f",
   "metadata": {},
   "source": [
    "### List Comprehension e Dict Comprehension"
   ]
  },
  {
   "cell_type": "code",
   "execution_count": 3,
   "id": "42766e3d-82f0-4481-a628-6d3c9062402c",
   "metadata": {},
   "outputs": [
    {
     "data": {
      "text/plain": [
       "[0, 1, 2, 3, 4, 5, 6, 7, 8, 9]"
      ]
     },
     "execution_count": 3,
     "metadata": {},
     "output_type": "execute_result"
    }
   ],
   "source": [
    "#list Comprehension\n",
    "[x for x in range(10)]"
   ]
  },
  {
   "cell_type": "code",
   "execution_count": 4,
   "id": "e1692c8f-bc96-4f6e-8886-1dcc04f5086b",
   "metadata": {},
   "outputs": [],
   "source": [
    "lista_numeros = [x for x in range(10)]"
   ]
  },
  {
   "cell_type": "code",
   "execution_count": 5,
   "id": "c8ad39c6-06a4-4291-b767-b0d79b6a5a3b",
   "metadata": {},
   "outputs": [
    {
     "data": {
      "text/plain": [
       "[0, 1, 2, 3, 4, 5, 6, 7, 8, 9]"
      ]
     },
     "execution_count": 5,
     "metadata": {},
     "output_type": "execute_result"
    }
   ],
   "source": [
    "lista_numeros"
   ]
  },
  {
   "cell_type": "code",
   "execution_count": 7,
   "id": "bffda0aa-1e7a-4ed9-89ae-91d6471e1b0a",
   "metadata": {},
   "outputs": [
    {
     "name": "stdout",
     "output_type": "stream",
     "text": [
      "[0, 1, 2, 3, 4]\n"
     ]
    }
   ],
   "source": [
    "lista_numeros = [x for x in range(10) if x < 5]\n",
    "print(lista_numeros)"
   ]
  },
  {
   "cell_type": "code",
   "execution_count": 9,
   "id": "d583991a-de35-4e50-9a80-b7632dc04b46",
   "metadata": {},
   "outputs": [],
   "source": [
    "lista_frutas = ['banana','abacate','melancia','cereja','manga']"
   ]
  },
  {
   "cell_type": "code",
   "execution_count": 10,
   "id": "e0f95aa3-bfc4-42c6-8986-90d8dc52a2b6",
   "metadata": {},
   "outputs": [],
   "source": [
    "nova_lista = []"
   ]
  },
  {
   "cell_type": "code",
   "execution_count": 11,
   "id": "eca05651-3f06-40e8-83ab-20aea5ddeea4",
   "metadata": {},
   "outputs": [
    {
     "name": "stdout",
     "output_type": "stream",
     "text": [
      "['melancia', 'manga']\n"
     ]
    }
   ],
   "source": [
    "# loop tradicional\n",
    "for x in lista_frutas:\n",
    "    if 'm' in x:\n",
    "        nova_lista.append(x)\n",
    "\n",
    "print(nova_lista)"
   ]
  },
  {
   "cell_type": "code",
   "execution_count": 12,
   "id": "261d2a52-5a5f-45c0-b01b-2d74f5fb7933",
   "metadata": {},
   "outputs": [],
   "source": [
    "# list comprehension\n",
    "nova_lista = [ x for x in lista_frutas if 'm' in x]"
   ]
  },
  {
   "cell_type": "code",
   "execution_count": 13,
   "id": "de221482-1267-41ae-8496-6c3f3e2ebdae",
   "metadata": {},
   "outputs": [
    {
     "data": {
      "text/plain": [
       "['melancia', 'manga']"
      ]
     },
     "execution_count": 13,
     "metadata": {},
     "output_type": "execute_result"
    }
   ],
   "source": [
    "nova_lista"
   ]
  },
  {
   "cell_type": "code",
   "execution_count": 14,
   "id": "dc05607b-27db-433d-8f4b-76e423347afc",
   "metadata": {},
   "outputs": [],
   "source": [
    "#Dict comprehension\n",
    "# Dicionario de alunos e notas\n",
    "dict_alunos = {'Bob' : 68, 'Michel' : 84, 'Zico' : 57, 'Ana' : 93}\n"
   ]
  },
  {
   "cell_type": "code",
   "execution_count": 17,
   "id": "be2a3fe5-9d8f-4582-af1c-965bae0e8f24",
   "metadata": {},
   "outputs": [
    {
     "name": "stdout",
     "output_type": "stream",
     "text": [
      "{'Bob': 68, 'Michel': 84, 'Zico': 57, 'Ana': 93}\n"
     ]
    }
   ],
   "source": [
    "# Criando um novo dicionario\n",
    "dict_alunos_status = { k : v for (k,v) in dict_alunos.items()}\n",
    "print(dict_alunos_status)"
   ]
  },
  {
   "cell_type": "code",
   "execution_count": 18,
   "id": "efc5606e-fb16-41ed-8333-112b1f7a6fc0",
   "metadata": {},
   "outputs": [],
   "source": [
    "# criando um novo dicionario com condição\n",
    "dict_alunos_status = { k: ('Aprovado' if v > 70 else 'Reprovado') for (k,v) in dict_alunos.items()}"
   ]
  },
  {
   "cell_type": "code",
   "execution_count": 19,
   "id": "b64fcc72-a299-4065-9519-8765fde6b55e",
   "metadata": {},
   "outputs": [
    {
     "name": "stdout",
     "output_type": "stream",
     "text": [
      "{'Bob': 'Reprovado', 'Michel': 'Aprovado', 'Zico': 'Reprovado', 'Ana': 'Aprovado'}\n"
     ]
    }
   ],
   "source": [
    "print(dict_alunos_status)"
   ]
  },
  {
   "cell_type": "code",
   "execution_count": null,
   "id": "0e831719-cd8f-44a4-9cb9-e7dca222ad42",
   "metadata": {},
   "outputs": [],
   "source": []
  }
 ],
 "metadata": {
  "kernelspec": {
   "display_name": "Python 3 (ipykernel)",
   "language": "python",
   "name": "python3"
  },
  "language_info": {
   "codemirror_mode": {
    "name": "ipython",
    "version": 3
   },
   "file_extension": ".py",
   "mimetype": "text/x-python",
   "name": "python",
   "nbconvert_exporter": "python",
   "pygments_lexer": "ipython3",
   "version": "3.12.7"
  }
 },
 "nbformat": 4,
 "nbformat_minor": 5
}

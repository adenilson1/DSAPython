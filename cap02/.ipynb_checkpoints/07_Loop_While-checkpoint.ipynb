{
 "cells": [
  {
   "cell_type": "markdown",
   "id": "db2a968f-be3a-4345-b94b-0003c381a725",
   "metadata": {},
   "source": [
    "### Loop While"
   ]
  },
  {
   "cell_type": "code",
   "execution_count": null,
   "id": "bb36c3bd-8957-429e-a4a1-27faa0edd442",
   "metadata": {},
   "outputs": [],
   "source": [
    "# Usando o loop while imprimir os valores 0 a 9\n",
    "valo = 0\n",
    "while valor < 10:\n",
    "    print(valor)\n",
    "    valor += valor\n",
    "    "
   ]
  }
 ],
 "metadata": {
  "kernelspec": {
   "display_name": "Python 3 (ipykernel)",
   "language": "python",
   "name": "python3"
  },
  "language_info": {
   "codemirror_mode": {
    "name": "ipython",
    "version": 3
   },
   "file_extension": ".py",
   "mimetype": "text/x-python",
   "name": "python",
   "nbconvert_exporter": "python",
   "pygments_lexer": "ipython3",
   "version": "3.12.7"
  }
 },
 "nbformat": 4,
 "nbformat_minor": 5
}

{
 "cells": [
  {
   "cell_type": "markdown",
   "id": "d6ae41c5-94dd-4ffe-bf7d-9ec71b37e64e",
   "metadata": {},
   "source": [
    "### Escopo de Variável - Local e Global"
   ]
  },
  {
   "cell_type": "code",
   "execution_count": 1,
   "id": "8224f836-058f-4f64-a8ab-9cfa0b347e24",
   "metadata": {},
   "outputs": [],
   "source": [
    "# Variavel Globol\n",
    "var_global = 10 # global\n",
    "\n",
    "#Função\n",
    "def multiplica_numeros(num1, num2):\n",
    "    var_global = num1 * num2 # local\n",
    "    print(var_global)"
   ]
  },
  {
   "cell_type": "code",
   "execution_count": 2,
   "id": "7025b38a-325f-47b4-957d-5faa1ab6a3ba",
   "metadata": {},
   "outputs": [
    {
     "name": "stdout",
     "output_type": "stream",
     "text": [
      "125\n"
     ]
    }
   ],
   "source": [
    "multiplica_numeros(5,25)"
   ]
  },
  {
   "cell_type": "code",
   "execution_count": 3,
   "id": "538d5011-946e-439a-8310-f9d5e848219a",
   "metadata": {},
   "outputs": [
    {
     "name": "stdout",
     "output_type": "stream",
     "text": [
      "10\n"
     ]
    }
   ],
   "source": [
    "print(var_global)"
   ]
  },
  {
   "cell_type": "code",
   "execution_count": null,
   "id": "725a5dbd-9325-4dff-ab4e-2c5f31afed79",
   "metadata": {},
   "outputs": [],
   "source": []
  }
 ],
 "metadata": {
  "kernelspec": {
   "display_name": "Python 3 (ipykernel)",
   "language": "python",
   "name": "python3"
  },
  "language_info": {
   "codemirror_mode": {
    "name": "ipython",
    "version": 3
   },
   "file_extension": ".py",
   "mimetype": "text/x-python",
   "name": "python",
   "nbconvert_exporter": "python",
   "pygments_lexer": "ipython3",
   "version": "3.12.7"
  }
 },
 "nbformat": 4,
 "nbformat_minor": 5
}

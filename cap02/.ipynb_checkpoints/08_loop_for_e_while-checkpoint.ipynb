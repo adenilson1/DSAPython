{
 "cells": [
  {
   "cell_type": "markdown",
   "id": "ede083c8-d75b-4870-8b4a-b21e916bae26",
   "metadata": {},
   "source": [
    "### While e For"
   ]
  },
  {
   "cell_type": "code",
   "execution_count": 7,
   "id": "3513979b-7b71-4858-acea-18fe3a3bdc4d",
   "metadata": {},
   "outputs": [
    {
     "name": "stdout",
     "output_type": "stream",
     "text": [
      "[2, 3, 5, 7, 11, 13, 17, 19, 23, 29]\n",
      "CPU times: user 146 μs, sys: 0 ns, total: 146 μs\n",
      "Wall time: 152 μs\n"
     ]
    }
   ],
   "source": [
    "%%time\n",
    "# Encontrando números primos entre 2 e 30 usando for e while\n",
    "#variavel de armazenamento\n",
    "\n",
    "primos = []\n",
    "\n",
    "for num in range(2, 31):\n",
    "    eh_primo = True\n",
    "\n",
    "    #Loop while\n",
    "    n = 2\n",
    "    while n <= num // 2:\n",
    "        if num % n == 0:\n",
    "            eh_primo = False\n",
    "            break\n",
    "        n += 1\n",
    "    #Adicionando o primo na lista\n",
    "    if eh_primo:\n",
    "        primos.append(num)\n",
    "#imprimindo os numeros primos\n",
    "print(primos)\n",
    "    "
   ]
  },
  {
   "cell_type": "code",
   "execution_count": null,
   "id": "2be5dba0-cef2-4991-9725-39b49a6bcd6f",
   "metadata": {},
   "outputs": [],
   "source": [
    "%%time\n",
    "\n",
    "for i in range(2,31):\n",
    "    \n",
    "    j = 2\n",
    "    valor = 0\n",
    "\n",
    "    while j < i:\n",
    "        if i % j == 0:\n",
    "            valor = 1\n",
    "            j += 1\n",
    "\n",
    "    if valor == 0:\n",
    "        print(str(i) + \" é número primo\")\n",
    "        valor = 0\n",
    "    else:\n",
    "        valor = 0\n",
    "\n"
   ]
  }
 ],
 "metadata": {
  "kernelspec": {
   "display_name": "Python 3 (ipykernel)",
   "language": "python",
   "name": "python3"
  },
  "language_info": {
   "codemirror_mode": {
    "name": "ipython",
    "version": 3
   },
   "file_extension": ".py",
   "mimetype": "text/x-python",
   "name": "python",
   "nbconvert_exporter": "python",
   "pygments_lexer": "ipython3",
   "version": "3.12.7"
  }
 },
 "nbformat": 4,
 "nbformat_minor": 5
}

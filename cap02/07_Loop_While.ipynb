{
 "cells": [
  {
   "cell_type": "markdown",
   "id": "db2a968f-be3a-4345-b94b-0003c381a725",
   "metadata": {},
   "source": [
    "### Loop While"
   ]
  },
  {
   "cell_type": "code",
   "execution_count": 5,
   "id": "bb36c3bd-8957-429e-a4a1-27faa0edd442",
   "metadata": {},
   "outputs": [
    {
     "name": "stdout",
     "output_type": "stream",
     "text": [
      "1\n",
      "2\n",
      "3\n",
      "4\n",
      "5\n",
      "6\n",
      "7\n",
      "8\n",
      "9\n"
     ]
    }
   ],
   "source": [
    "# Usando o loop while imprimir os valores 0 a 9\n",
    "valo = 0\n",
    "while valor < 10:\n",
    "    print(valor)\n",
    "    valor += 1\n",
    "    "
   ]
  },
  {
   "cell_type": "code",
   "execution_count": 6,
   "id": "2d5c8a47-6e7b-463b-9bd8-484b1b9fbd9d",
   "metadata": {},
   "outputs": [],
   "source": [
    "# Entra no loop somente se uma condição é verdadeira\n",
    "valor = 11\n",
    "while valor < 11:\n",
    "    print(valor)\n",
    "    valor += 1"
   ]
  },
  {
   "cell_type": "code",
   "execution_count": 9,
   "id": "129b3b78-d293-4601-88d3-80185b73be47",
   "metadata": {},
   "outputs": [
    {
     "name": "stdout",
     "output_type": "stream",
     "text": [
      "O valor de x nesta interação 0\n",
      "0 ainda é menor que 10, somando 1 a 0\n",
      "O valor de x nesta interação 1\n",
      "1 ainda é menor que 10, somando 1 a 1\n",
      "O valor de x nesta interação 2\n",
      "2 ainda é menor que 10, somando 1 a 2\n",
      "O valor de x nesta interação 3\n",
      "3 ainda é menor que 10, somando 1 a 3\n",
      "O valor de x nesta interação 4\n",
      "4 ainda é menor que 10, somando 1 a 4\n",
      "O valor de x nesta interação 5\n",
      "5 ainda é menor que 10, somando 1 a 5\n",
      "O valor de x nesta interação 6\n",
      "6 ainda é menor que 10, somando 1 a 6\n",
      "O valor de x nesta interação 7\n",
      "7 ainda é menor que 10, somando 1 a 7\n",
      "O valor de x nesta interação 8\n",
      "8 ainda é menor que 10, somando 1 a 8\n",
      "O valor de x nesta interação 9\n",
      "9 ainda é menor que 10, somando 1 a 9\n",
      "Loop concluido\n",
      "10\n"
     ]
    }
   ],
   "source": [
    "# Também é possivel usar a clausula else para encerrar o loop while\n",
    "x =0\n",
    "\n",
    "while x < 10:\n",
    "    print(f'O valor de x nesta interação {x}')\n",
    "    print(f'{x} ainda é menor que 10, somando 1 a {x}')\n",
    "    x += 1\n",
    "else:\n",
    "    print('Loop concluido')\n",
    "print(x)"
   ]
  },
  {
   "cell_type": "markdown",
   "id": "136d28d2-f6ca-44e6-aa8c-6ff90bd9fed6",
   "metadata": {},
   "source": [
    "### Pass, Break e Continue"
   ]
  },
  {
   "cell_type": "code",
   "execution_count": 11,
   "id": "f880395d-50ef-4173-9d77-ddf254647987",
   "metadata": {},
   "outputs": [
    {
     "name": "stdout",
     "output_type": "stream",
     "text": [
      "0\n",
      "1\n",
      "2\n",
      "3\n"
     ]
    }
   ],
   "source": [
    "# Se encontrarmos o numero 4 interrompemos o loop\n",
    "valor = 0\n",
    "while valor < 10:\n",
    "    if valor == 4:\n",
    "        break\n",
    "    else:\n",
    "        pass\n",
    "    print(valor)\n",
    "    valor += 1"
   ]
  },
  {
   "cell_type": "code",
   "execution_count": 12,
   "id": "1a3621fe-0cc6-4943-b14e-84f673e3f99c",
   "metadata": {},
   "outputs": [
    {
     "name": "stdout",
     "output_type": "stream",
     "text": [
      "P\n",
      "y\n",
      "t\n",
      "h\n",
      "o\n",
      "n\n",
      " \n",
      "é\n",
      " \n",
      " \n",
      "i\n",
      "n\n",
      "c\n",
      "r\n",
      "í\n",
      "v\n",
      "e\n",
      "l\n"
     ]
    }
   ],
   "source": [
    "# Desconsiderando a letra z ao imprimir os caracteres da frase\n",
    "for letra in 'Python é zzz incrível':\n",
    "    if letra == 'z':\n",
    "        continue\n",
    "    print(letra)"
   ]
  },
  {
   "cell_type": "code",
   "execution_count": null,
   "id": "bea78f56-92d9-4969-9afc-1914cc5f53f3",
   "metadata": {},
   "outputs": [],
   "source": []
  }
 ],
 "metadata": {
  "kernelspec": {
   "display_name": "Python 3 (ipykernel)",
   "language": "python",
   "name": "python3"
  },
  "language_info": {
   "codemirror_mode": {
    "name": "ipython",
    "version": 3
   },
   "file_extension": ".py",
   "mimetype": "text/x-python",
   "name": "python",
   "nbconvert_exporter": "python",
   "pygments_lexer": "ipython3",
   "version": "3.12.7"
  }
 },
 "nbformat": 4,
 "nbformat_minor": 5
}

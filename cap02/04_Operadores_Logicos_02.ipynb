{
 "cells": [
  {
   "cell_type": "markdown",
   "id": "da9a5a1b-468a-4aaa-96ac-0b4e2401912b",
   "metadata": {},
   "source": [
    "### Operadores Lógicos"
   ]
  },
  {
   "cell_type": "code",
   "execution_count": 2,
   "id": "b1160be5-a0f3-4397-96b0-51ce96c1b29e",
   "metadata": {},
   "outputs": [
    {
     "name": "stdout",
     "output_type": "stream",
     "text": [
      "Você pode dirigir !!\n"
     ]
    }
   ],
   "source": [
    "idade = 18\n",
    "nome = 'Bob'\n",
    "if idade > 17:\n",
    "    print('Você pode dirigir !!')"
   ]
  },
  {
   "cell_type": "code",
   "execution_count": 3,
   "id": "bb4e69a9-dd47-49e7-b575-704b61312941",
   "metadata": {},
   "outputs": [
    {
     "name": "stdout",
     "output_type": "stream",
     "text": [
      "Autorizado!\n"
     ]
    }
   ],
   "source": [
    "if idade > 17 and nome == 'Bob':\n",
    "    print('Autorizado!')"
   ]
  },
  {
   "cell_type": "code",
   "execution_count": 4,
   "id": "444dad31-9982-4be8-83ef-cd3c3f4b94e9",
   "metadata": {},
   "outputs": [],
   "source": [
    "# operadores logico principais: and, or e not"
   ]
  },
  {
   "cell_type": "code",
   "execution_count": 5,
   "id": "24fe57c2-9631-4512-88ec-ee69d9962c92",
   "metadata": {},
   "outputs": [
    {
     "name": "stdout",
     "output_type": "stream",
     "text": [
      "As duas condições são verdadeiras\n"
     ]
    }
   ],
   "source": [
    "#operador and\n",
    "numero = 4\n",
    "if numero > 2 and numero  % 2 == 0:\n",
    "    print('As duas condições são verdadeiras')"
   ]
  },
  {
   "cell_type": "code",
   "execution_count": 6,
   "id": "f556f020-dd22-42d9-a8dd-3ec071080cc4",
   "metadata": {},
   "outputs": [
    {
     "name": "stdout",
     "output_type": "stream",
     "text": [
      "Uma das duas condições é falsa!\n"
     ]
    }
   ],
   "source": [
    "#operador and\n",
    "numero = 4\n",
    "if numero > 5 and numero  % 2 == 0:\n",
    "    print('As duas condições são verdadeiras')\n",
    "else:\n",
    "    print('Uma das duas condições é falsa!')"
   ]
  },
  {
   "cell_type": "code",
   "execution_count": 7,
   "id": "5f7e2115-088a-4bea-b051-878d5b3cc4dc",
   "metadata": {},
   "outputs": [
    {
     "name": "stdout",
     "output_type": "stream",
     "text": [
      "Uma das  duas condições é verdadeiras\n"
     ]
    }
   ],
   "source": [
    "#operador or\n",
    "numero = 4\n",
    "if numero > 5 or numero  % 2 == 0:\n",
    "    print('Uma das  duas condições é verdadeiras')"
   ]
  },
  {
   "cell_type": "code",
   "execution_count": 10,
   "id": "b138acf5-cdb2-489f-98da-08fc5b5f9740",
   "metadata": {},
   "outputs": [
    {
     "name": "stdout",
     "output_type": "stream",
     "text": [
      "As duas condições são verdadeiras\n"
     ]
    }
   ],
   "source": [
    "#operador not\n",
    "numero = 4\n",
    "if not(numero > 5) and numero  % 2 == 0:\n",
    "    print('As duas condições são verdadeiras')\n",
    "else:\n",
    "    print('Uma das duas condiçẽos é falsa')"
   ]
  },
  {
   "cell_type": "code",
   "execution_count": 12,
   "id": "0bbfad48-be79-4b8c-9f47-0057073eb8cd",
   "metadata": {},
   "outputs": [
    {
     "name": "stdout",
     "output_type": "stream",
     "text": [
      "As duas primeiras condições são verdadeiras ou a terceira é verdadeira\n"
     ]
    }
   ],
   "source": [
    "#operadores and, or e not\n",
    "numero = 4\n",
    "if (not(numero > 5) and (numero % 2 == 0) or (numero == 4)):\n",
    "    print('As duas primeiras condições são verdadeiras ou a terceira é verdadeira')"
   ]
  },
  {
   "cell_type": "code",
   "execution_count": 13,
   "id": "358c0404-a14e-4b7a-a96d-e06864b3b807",
   "metadata": {},
   "outputs": [
    {
     "name": "stdout",
     "output_type": "stream",
     "text": [
      "APROVADO\n"
     ]
    }
   ],
   "source": [
    "#exemplo com uso de variáveis\n",
    "disciplina = 'Data Science'\n",
    "nota_final = 70\n",
    "if disciplina == 'Data Science' and nota_final >= 70:\n",
    "    print('APROVADO')\n",
    "else:\n",
    "    print('REPROVADO')"
   ]
  },
  {
   "cell_type": "code",
   "execution_count": 5,
   "id": "0ed13f99-868e-4bb7-958b-a92402a40f94",
   "metadata": {},
   "outputs": [
    {
     "name": "stdout",
     "output_type": "stream",
     "text": [
      "reprovado\n"
     ]
    }
   ],
   "source": [
    "# Usando mais de uma condição na clausula if\n",
    "\n",
    "disciplina = 'Data Science'\n",
    "nota_final = 60\n",
    "\n",
    "if disciplina == 'Data Science' and nota_final >= 70:\n",
    "    print('Você foi aprovado')\n",
    "else:\n",
    "    print('reprovado')"
   ]
  },
  {
   "cell_type": "code",
   "execution_count": 7,
   "id": "43793f5a-287f-40bf-8cd0-04858944da4a",
   "metadata": {},
   "outputs": [
    {
     "name": "stdout",
     "output_type": "stream",
     "text": [
      "Você foi aprovado em Data Science com media final 90!\n"
     ]
    }
   ],
   "source": [
    "#Usando mais de uma condição na clausula if e intraduzindo Placeholders\n",
    "\n",
    "disciplina = 'Data Science'\n",
    "nota_final = 90\n",
    "semestre = 2\n",
    "\n",
    "if disciplina == 'Data Science' and nota_final >= 80 and semestre != 1:\n",
    "    print('Você foi aprovado em %s com media final %r!' %(disciplina, nota_final))\n",
    "else:\n",
    "    print('reprovado')"
   ]
  },
  {
   "cell_type": "code",
   "execution_count": null,
   "id": "46ac55e7-8200-4056-bad7-a6317e839c5d",
   "metadata": {},
   "outputs": [],
   "source": []
  }
 ],
 "metadata": {
  "kernelspec": {
   "display_name": "Python 3 (ipykernel)",
   "language": "python",
   "name": "python3"
  },
  "language_info": {
   "codemirror_mode": {
    "name": "ipython",
    "version": 3
   },
   "file_extension": ".py",
   "mimetype": "text/x-python",
   "name": "python",
   "nbconvert_exporter": "python",
   "pygments_lexer": "ipython3",
   "version": "3.12.7"
  }
 },
 "nbformat": 4,
 "nbformat_minor": 5
}

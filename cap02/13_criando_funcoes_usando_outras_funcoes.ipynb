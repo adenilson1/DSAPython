{
 "cells": [
  {
   "cell_type": "markdown",
   "id": "2f6ce3d9-cf05-433c-ba6e-a5e475f6fc20",
   "metadata": {},
   "source": [
    "### Criando Funções usando outras funçõesm"
   ]
  },
  {
   "cell_type": "code",
   "execution_count": 1,
   "id": "b6eac8a0-3d2f-410f-b938-368ea65bddde",
   "metadata": {},
   "outputs": [],
   "source": [
    "import math\n",
    "\n",
    "#verificando numeros primos\n",
    "def numPrimo(num):\n",
    "    if (num % 2 ) == 0 and num > 2:\n",
    "        return 'Este número não é primo'\n",
    "    for i in range (3, int(math.sqrt(num)) + 1 ,2 ):\n",
    "        return 'Este número não é primo'\n",
    "    return 'Este número  é primo'\n",
    "        "
   ]
  },
  {
   "cell_type": "code",
   "execution_count": 2,
   "id": "f23f46d1-ea95-4f22-8f88-c925c8e9db73",
   "metadata": {},
   "outputs": [
    {
     "data": {
      "text/plain": [
       "'Este número não é primo'"
      ]
     },
     "execution_count": 2,
     "metadata": {},
     "output_type": "execute_result"
    }
   ],
   "source": [
    "numPrimo(541)"
   ]
  },
  {
   "cell_type": "code",
   "execution_count": 3,
   "id": "9182e42a-dbee-414f-ad36-deef47203e20",
   "metadata": {},
   "outputs": [
    {
     "data": {
      "text/plain": [
       "'Este número  é primo'"
      ]
     },
     "execution_count": 3,
     "metadata": {},
     "output_type": "execute_result"
    }
   ],
   "source": [
    "numPrimo(2)"
   ]
  },
  {
   "cell_type": "code",
   "execution_count": 4,
   "id": "c0b5c9dc-3404-4cc8-bad0-2a54560228c6",
   "metadata": {},
   "outputs": [],
   "source": [
    "caixa_baixa = 'Este Texto Deveria Estar Todo Em LowerCase'"
   ]
  },
  {
   "cell_type": "code",
   "execution_count": 11,
   "id": "aa567687-9034-43a0-ba2b-275f2c3a4a9e",
   "metadata": {},
   "outputs": [],
   "source": [
    "def lowercase(text):\n",
    "    return text.lower()"
   ]
  },
  {
   "cell_type": "code",
   "execution_count": 12,
   "id": "44fc1c02-7521-4751-bc4f-a95a8a2622d3",
   "metadata": {},
   "outputs": [
    {
     "data": {
      "text/plain": [
       "'este texto deveria estar todo em lowercase'"
      ]
     },
     "execution_count": 12,
     "metadata": {},
     "output_type": "execute_result"
    }
   ],
   "source": [
    "lowercase(caixa_baixa)"
   ]
  },
  {
   "cell_type": "code",
   "execution_count": 13,
   "id": "50cf7974-f12e-4150-aea4-148b82962197",
   "metadata": {},
   "outputs": [],
   "source": [
    "lowercased_string = lowercase(caixa_baixa)"
   ]
  },
  {
   "cell_type": "code",
   "execution_count": 14,
   "id": "45fa67b3-91d8-42ab-a879-15b4b00c4f0d",
   "metadata": {},
   "outputs": [
    {
     "data": {
      "text/plain": [
       "'este texto deveria estar todo em lowercase'"
      ]
     },
     "execution_count": 14,
     "metadata": {},
     "output_type": "execute_result"
    }
   ],
   "source": [
    "lowercased_string"
   ]
  },
  {
   "cell_type": "code",
   "execution_count": null,
   "id": "a2109213-c19c-44db-a000-3e64e1d9ec8d",
   "metadata": {},
   "outputs": [],
   "source": []
  }
 ],
 "metadata": {
  "kernelspec": {
   "display_name": "Python 3 (ipykernel)",
   "language": "python",
   "name": "python3"
  },
  "language_info": {
   "codemirror_mode": {
    "name": "ipython",
    "version": 3
   },
   "file_extension": ".py",
   "mimetype": "text/x-python",
   "name": "python",
   "nbconvert_exporter": "python",
   "pygments_lexer": "ipython3",
   "version": "3.12.7"
  }
 },
 "nbformat": 4,
 "nbformat_minor": 5
}

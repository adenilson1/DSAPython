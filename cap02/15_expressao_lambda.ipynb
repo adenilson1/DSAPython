{
 "cells": [
  {
   "cell_type": "markdown",
   "id": "6fbdbef8-4c07-4428-b858-682ad2edd4e9",
   "metadata": {},
   "source": [
    "### Expressão Lambda"
   ]
  },
  {
   "cell_type": "code",
   "execution_count": 2,
   "id": "2a5ff350-5b64-4b45-8a76-2325a877bd98",
   "metadata": {},
   "outputs": [
    {
     "name": "stdout",
     "output_type": "stream",
     "text": [
      "Versão da linguagem Pyhton neste Jupyter Notebook 3.12.7\n"
     ]
    }
   ],
   "source": [
    "from platform import python_version\n",
    "print('Versão da linguagem Pyhton neste Jupyter Notebook', python_version())"
   ]
  },
  {
   "cell_type": "code",
   "execution_count": 5,
   "id": "b5462783-76e6-4a9e-a4db-01b5b8c6c604",
   "metadata": {},
   "outputs": [],
   "source": [
    "#Definindo uma função - 3 linhas de codigo\n",
    "def potencia(num):\n",
    "    resultado = num ** 2\n",
    "    return resultado"
   ]
  },
  {
   "cell_type": "code",
   "execution_count": 6,
   "id": "dddaef4f-3058-41dd-b130-6d9bc6c90b28",
   "metadata": {},
   "outputs": [
    {
     "data": {
      "text/plain": [
       "4"
      ]
     },
     "execution_count": 6,
     "metadata": {},
     "output_type": "execute_result"
    }
   ],
   "source": [
    "potencia(2)"
   ]
  },
  {
   "cell_type": "code",
   "execution_count": 7,
   "id": "92fddaf5-c025-434b-b79e-17c4b79eda15",
   "metadata": {},
   "outputs": [],
   "source": [
    "# Definindo uma função - 2 linhas de codigo\n",
    "def potencia(num):\n",
    "    return num ** 2"
   ]
  },
  {
   "cell_type": "code",
   "execution_count": 8,
   "id": "61910a36-fbe9-468e-ab3e-1d9c8cc2c283",
   "metadata": {},
   "outputs": [
    {
     "data": {
      "text/plain": [
       "9"
      ]
     },
     "execution_count": 8,
     "metadata": {},
     "output_type": "execute_result"
    }
   ],
   "source": [
    "potencia(3)"
   ]
  },
  {
   "cell_type": "code",
   "execution_count": 9,
   "id": "4021206c-f853-4fa8-b2d6-17c324fdf894",
   "metadata": {},
   "outputs": [],
   "source": [
    "#Função com 1 linha de codigo\n",
    "def potencia(num): return num ** 2"
   ]
  },
  {
   "cell_type": "code",
   "execution_count": 10,
   "id": "3559403a-b752-4e73-ae38-9e31fae3071e",
   "metadata": {},
   "outputs": [
    {
     "data": {
      "text/plain": [
       "16"
      ]
     },
     "execution_count": 10,
     "metadata": {},
     "output_type": "execute_result"
    }
   ],
   "source": [
    "potencia(4)"
   ]
  },
  {
   "cell_type": "code",
   "execution_count": 11,
   "id": "0656853f-d2a2-4337-a222-4ac54d359074",
   "metadata": {},
   "outputs": [],
   "source": [
    "#Definido com uma expressao lambda\n",
    "potencia = lambda num: num ** 2"
   ]
  },
  {
   "cell_type": "code",
   "execution_count": 12,
   "id": "0e4b29b6-9758-4482-841c-8a94c6fc9bc8",
   "metadata": {},
   "outputs": [
    {
     "data": {
      "text/plain": [
       "36"
      ]
     },
     "execution_count": 12,
     "metadata": {},
     "output_type": "execute_result"
    }
   ],
   "source": [
    "potencia(6)"
   ]
  },
  {
   "cell_type": "code",
   "execution_count": 14,
   "id": "ac5cea0c-52d3-45bd-8d7b-45baeb8f91f3",
   "metadata": {},
   "outputs": [],
   "source": [
    "#Lembrando operadores de comparação que retornam boolen: true e false\n",
    "Par = lambda x: x%2==0"
   ]
  },
  {
   "cell_type": "code",
   "execution_count": 15,
   "id": "fa45d2f8-d21f-41b3-a4ce-599c2517cafd",
   "metadata": {},
   "outputs": [
    {
     "data": {
      "text/plain": [
       "True"
      ]
     },
     "execution_count": 15,
     "metadata": {},
     "output_type": "execute_result"
    }
   ],
   "source": [
    "Par(2)"
   ]
  },
  {
   "cell_type": "code",
   "execution_count": 16,
   "id": "1603e9c2-4c02-486d-b758-02b5bdf6b86f",
   "metadata": {},
   "outputs": [
    {
     "data": {
      "text/plain": [
       "False"
      ]
     },
     "execution_count": 16,
     "metadata": {},
     "output_type": "execute_result"
    }
   ],
   "source": [
    "Par(3)"
   ]
  },
  {
   "cell_type": "code",
   "execution_count": 17,
   "id": "2f37621e-9e10-4643-b59f-be57657fd16e",
   "metadata": {},
   "outputs": [],
   "source": [
    "first = lambda s: s[0]"
   ]
  },
  {
   "cell_type": "code",
   "execution_count": 18,
   "id": "ba6b8de4-14d6-41ad-9b8b-3a99809e37e0",
   "metadata": {},
   "outputs": [
    {
     "data": {
      "text/plain": [
       "'P'"
      ]
     },
     "execution_count": 18,
     "metadata": {},
     "output_type": "execute_result"
    }
   ],
   "source": [
    "first('Python')"
   ]
  },
  {
   "cell_type": "code",
   "execution_count": 20,
   "id": "46527763-ed2b-43fd-a79a-340e728f8c3c",
   "metadata": {},
   "outputs": [],
   "source": [
    "reverso = lambda s: s[::-1]"
   ]
  },
  {
   "cell_type": "code",
   "execution_count": 21,
   "id": "7581747b-1b32-4983-9a34-31f8c81a67e2",
   "metadata": {},
   "outputs": [
    {
     "data": {
      "text/plain": [
       "'nohtyP'"
      ]
     },
     "execution_count": 21,
     "metadata": {},
     "output_type": "execute_result"
    }
   ],
   "source": [
    "reverso('Python')"
   ]
  },
  {
   "cell_type": "code",
   "execution_count": 22,
   "id": "24cb1ee8-e0c7-4beb-8a77-adc47ef4487a",
   "metadata": {},
   "outputs": [],
   "source": [
    "addNum = lambda x,y : x + y"
   ]
  },
  {
   "cell_type": "code",
   "execution_count": 23,
   "id": "1567a6cd-4907-4dd1-8715-d6c5a706e65e",
   "metadata": {},
   "outputs": [
    {
     "data": {
      "text/plain": [
       "5"
      ]
     },
     "execution_count": 23,
     "metadata": {},
     "output_type": "execute_result"
    }
   ],
   "source": [
    "addNum(2,3)"
   ]
  },
  {
   "cell_type": "code",
   "execution_count": null,
   "id": "ed8120cf-195f-478f-8f23-446f954e863a",
   "metadata": {},
   "outputs": [],
   "source": []
  }
 ],
 "metadata": {
  "kernelspec": {
   "display_name": "Python 3 (ipykernel)",
   "language": "python",
   "name": "python3"
  },
  "language_info": {
   "codemirror_mode": {
    "name": "ipython",
    "version": 3
   },
   "file_extension": ".py",
   "mimetype": "text/x-python",
   "name": "python",
   "nbconvert_exporter": "python",
   "pygments_lexer": "ipython3",
   "version": "3.12.7"
  }
 },
 "nbformat": 4,
 "nbformat_minor": 5
}

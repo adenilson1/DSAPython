{
 "cells": [
  {
   "cell_type": "markdown",
   "id": "7e019b2e-5087-4f57-8a8f-994efd94bda5",
   "metadata": {},
   "source": [
    "### Intervalor de valores"
   ]
  },
  {
   "cell_type": "markdown",
   "id": "d0ef86c6-7f3c-424f-9411-b9f30c7a521a",
   "metadata": {},
   "source": [
    "#### Função range"
   ]
  },
  {
   "cell_type": "code",
   "execution_count": 1,
   "id": "a5787d89-7b2c-4678-8d26-e1afb05611b4",
   "metadata": {},
   "outputs": [
    {
     "name": "stdout",
     "output_type": "stream",
     "text": [
      "1\n",
      "2\n",
      "3\n",
      "4\n",
      "5\n",
      "6\n",
      "7\n",
      "8\n",
      "9\n",
      "10\n"
     ]
    }
   ],
   "source": [
    "# imprimindo valores de 1 a 10\n",
    "for numero in range(1,11):\n",
    "    print(numero)"
   ]
  },
  {
   "cell_type": "code",
   "execution_count": 2,
   "id": "08e2528b-8852-4d68-87a8-c6439bfbf025",
   "metadata": {},
   "outputs": [
    {
     "name": "stdout",
     "output_type": "stream",
     "text": [
      "50\n",
      "52\n",
      "54\n",
      "56\n",
      "58\n",
      "60\n",
      "62\n",
      "64\n",
      "66\n",
      "68\n",
      "70\n",
      "72\n",
      "74\n",
      "76\n",
      "78\n",
      "80\n",
      "82\n",
      "84\n",
      "86\n",
      "88\n",
      "90\n",
      "92\n",
      "94\n",
      "96\n",
      "98\n",
      "100\n"
     ]
    }
   ],
   "source": [
    "# imprimindo numeros pares entre 50 e 101\n",
    "for numero in range(50, 101, 2):\n",
    "    print(numero)"
   ]
  },
  {
   "cell_type": "code",
   "execution_count": 6,
   "id": "c0cf1535-3fb9-4111-9006-f46b4ca5cc97",
   "metadata": {},
   "outputs": [
    {
     "name": "stdout",
     "output_type": "stream",
     "text": [
      "0\n",
      "-2\n",
      "-4\n",
      "-6\n",
      "-8\n",
      "-10\n",
      "-12\n",
      "-14\n",
      "-16\n",
      "-18\n"
     ]
    }
   ],
   "source": [
    "# imprimindo os numeros negativos pares entre 0 a -20\n",
    "for numero_par_negativo in range (0, -20, -2):\n",
    "    print(numero_par_negativo)"
   ]
  },
  {
   "cell_type": "code",
   "execution_count": 5,
   "id": "114483b4-0329-4acf-8056-a7c0736473a9",
   "metadata": {},
   "outputs": [
    {
     "name": "stdout",
     "output_type": "stream",
     "text": [
      "Abacaxi\n",
      "Banana\n",
      "Morango\n",
      "Uva\n"
     ]
    }
   ],
   "source": [
    "# usando o tamanho de uma lista na funcao range()\n",
    "\n",
    "lista = ['Abacaxi', 'Banana', 'Morango', 'Uva']\n",
    "lista_tamanho = len(lista)\n",
    "for indice in range(0, lista_tamanho):\n",
    "    print(lista[indice])"
   ]
  },
  {
   "cell_type": "code",
   "execution_count": null,
   "id": "52641e85-7e34-49d4-a604-b62ade72db9c",
   "metadata": {},
   "outputs": [],
   "source": []
  }
 ],
 "metadata": {
  "kernelspec": {
   "display_name": "Python 3 (ipykernel)",
   "language": "python",
   "name": "python3"
  },
  "language_info": {
   "codemirror_mode": {
    "name": "ipython",
    "version": 3
   },
   "file_extension": ".py",
   "mimetype": "text/x-python",
   "name": "python",
   "nbconvert_exporter": "python",
   "pygments_lexer": "ipython3",
   "version": "3.12.7"
  }
 },
 "nbformat": 4,
 "nbformat_minor": 5
}

{
 "cells": [
  {
   "cell_type": "markdown",
   "id": "8d24bdaf-7fd0-4fa8-a7c1-8b5439cb3025",
   "metadata": {},
   "source": [
    "### Condicionais"
   ]
  },
  {
   "cell_type": "code",
   "execution_count": 2,
   "id": "ab456e11-06d7-41de-afff-e8f6021b83ea",
   "metadata": {},
   "outputs": [
    {
     "name": "stdout",
     "output_type": "stream",
     "text": [
      "Verdadeiro\n"
     ]
    }
   ],
   "source": [
    "# Condicinal if\n",
    "if 5 > 2:\n",
    "    print('Verdadeiro')\n"
   ]
  },
  {
   "cell_type": "code",
   "execution_count": 3,
   "id": "bfdfd545-2e58-48ae-80ec-3b18c0f9e851",
   "metadata": {},
   "outputs": [
    {
     "name": "stdout",
     "output_type": "stream",
     "text": [
      "Falso\n"
     ]
    }
   ],
   "source": [
    "# Condicional if .. else\n",
    "if 5 < 2:\n",
    "    print('Verdadeiro')\n",
    "else:\n",
    "    print('Falso')"
   ]
  },
  {
   "cell_type": "code",
   "execution_count": 5,
   "id": "02413d37-d6e5-4e5e-aebf-f0c54876387d",
   "metadata": {},
   "outputs": [
    {
     "name": "stdout",
     "output_type": "stream",
     "text": [
      "Hoje vai chover\n"
     ]
    }
   ],
   "source": [
    "# if ... else com variaveis\n",
    "dia = \"Terça\"\n",
    "if dia == \"Segunda\":\n",
    "    print(\"Hoje fará sol\")\n",
    "else:\n",
    "    print(\"Hoje vai chover\")"
   ]
  },
  {
   "cell_type": "code",
   "execution_count": 7,
   "id": "de9a7548-d10d-47fa-8652-ea5fd846f3f9",
   "metadata": {},
   "outputs": [
    {
     "name": "stdout",
     "output_type": "stream",
     "text": [
      "Hoje vai chover\n"
     ]
    }
   ],
   "source": [
    "# if ... elif .. else : mais de uma condição \n",
    "if dia == \"Segunda\":\n",
    "    print(\"Hoje fará sol\")\n",
    "elif dia == \"Terça\":\n",
    "    print('Hoje vai chover')\n",
    "else:\n",
    "    print('Sem previsão do tempo')"
   ]
  },
  {
   "cell_type": "code",
   "execution_count": null,
   "id": "8260839c-8d88-4fc1-8f67-5855b68b6917",
   "metadata": {},
   "outputs": [],
   "source": []
  }
 ],
 "metadata": {
  "kernelspec": {
   "display_name": "Python 3 (ipykernel)",
   "language": "python",
   "name": "python3"
  },
  "language_info": {
   "codemirror_mode": {
    "name": "ipython",
    "version": 3
   },
   "file_extension": ".py",
   "mimetype": "text/x-python",
   "name": "python",
   "nbconvert_exporter": "python",
   "pygments_lexer": "ipython3",
   "version": "3.12.7"
  }
 },
 "nbformat": 4,
 "nbformat_minor": 5
}

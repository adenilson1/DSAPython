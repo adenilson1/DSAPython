{
 "cells": [
  {
   "cell_type": "markdown",
   "id": "be2c0e77-1448-44ff-890e-5e08be6f83e9",
   "metadata": {},
   "source": [
    "### Loop For Aninhado"
   ]
  },
  {
   "cell_type": "code",
   "execution_count": 2,
   "id": "8235e0f8-9e8b-49ea-bb7a-8c3bd7a033e6",
   "metadata": {},
   "outputs": [
    {
     "name": "stdout",
     "output_type": "stream",
     "text": [
      "\n",
      " 0\n",
      "\n",
      " 0\n",
      "\n",
      " 0\n",
      "-------\n",
      "\n",
      " 1\n",
      "\n",
      " 2\n",
      "\n",
      " 3\n",
      "-------\n",
      "\n",
      " 2\n",
      "\n",
      " 4\n",
      "\n",
      " 6\n",
      "-------\n",
      "\n",
      " 3\n",
      "\n",
      " 6\n",
      "\n",
      " 9\n",
      "-------\n",
      "\n",
      " 4\n",
      "\n",
      " 8\n",
      "\n",
      " 12\n",
      "-------\n"
     ]
    }
   ],
   "source": [
    "lista1 = [0,1,2,3,4]\n",
    "lista2 = [1,2,3]\n",
    "\n",
    "#Loop externo\n",
    "for elemento_lista1 in lista1:\n",
    "    #Loop interno\n",
    "    for elemento_lista2 in lista2:\n",
    "        print('\\n', elemento_lista1 * elemento_lista2)\n",
    "    print('-------')"
   ]
  },
  {
   "cell_type": "code",
   "execution_count": 12,
   "id": "d7c4eb2c-4c0c-4608-a8dd-2306bf786ef6",
   "metadata": {},
   "outputs": [
    {
     "name": "stdout",
     "output_type": "stream",
     "text": [
      "O numero 47 aparece nas duas listas\n"
     ]
    }
   ],
   "source": [
    "# Número 47 aparece nas duas listas?\n",
    "lista1 = [10,16,24,39,47]\n",
    "lista2 = [32,89,47,76,12]\n",
    "\n",
    "x = False\n",
    "\n",
    "for elemento_lista1 in lista1:\n",
    "    \n",
    "    for elemento_lista2 in lista2:\n",
    "        \n",
    "        if elemento_lista1 == elemento_lista2:\n",
    "            x = True\n",
    "            \n",
    "if x == True:\n",
    "    print('O numero 47 aparece nas duas listas')\n",
    "else:\n",
    "    print('O numero 47 não aparece nas dusa listas')\n",
    "            "
   ]
  },
  {
   "cell_type": "code",
   "execution_count": 19,
   "id": "42fd7576-0f04-44e4-b8c0-069ff3226514",
   "metadata": {},
   "outputs": [
    {
     "name": "stdout",
     "output_type": "stream",
     "text": [
      "170\n"
     ]
    }
   ],
   "source": [
    "# Some os numeros pares da primeira lista com os numeros da segunda lista\n",
    "lista1 = [10,16,24,39,47]\n",
    "lista2 = [32,89,47,76,12]\n",
    "soma = 0\n",
    "\n",
    "for lista in [lista1, lista2]:\n",
    "\n",
    "    for num in lista:\n",
    "        \n",
    "        #condicional\n",
    "        if num % 2 == 0:\n",
    "            soma += num\n",
    "            \n",
    "print(soma)\n",
    "\n"
   ]
  },
  {
   "cell_type": "code",
   "execution_count": 1,
   "id": "a846668e-64c3-4f09-ba27-8f12f4103de4",
   "metadata": {},
   "outputs": [
    {
     "name": "stdout",
     "output_type": "stream",
     "text": [
      "215\n"
     ]
    }
   ],
   "source": [
    "# Loop em lista (matrizes) para encontrar o maior numero\n",
    "matriz = [[42,23,34], [100,215,114], [10.1, 98.7, 12.3]]\n",
    "maior_numero = 0\n",
    "\n",
    "#loop externo\n",
    "for linha in matriz:\n",
    "    #loop interno\n",
    "    for num in linha:\n",
    "\n",
    "        if num > maior_numero:\n",
    "            maior_numero = num\n",
    "\n",
    "print(maior_numero)"
   ]
  },
  {
   "cell_type": "code",
   "execution_count": 2,
   "id": "e6510bf2-bd68-4500-adff-8c84fb1ecfea",
   "metadata": {},
   "outputs": [
    {
     "name": "stdout",
     "output_type": "stream",
     "text": [
      "k1\n",
      "k2\n",
      "k3\n"
     ]
    }
   ],
   "source": [
    "#Listando as chaves de um dicionairo\n",
    "dict = {'k1':'Python', 'k2':'R', 'k3':'Scala'}\n",
    "for item in dict:\n",
    "    print(item)"
   ]
  },
  {
   "cell_type": "code",
   "execution_count": 3,
   "id": "1bca64f2-450f-41ed-9433-4ec5d67cbcf6",
   "metadata": {},
   "outputs": [
    {
     "name": "stdout",
     "output_type": "stream",
     "text": [
      "k1 Python\n",
      "k2 R\n",
      "k3 Scala\n"
     ]
    }
   ],
   "source": [
    "# valor do dicionario\n",
    "for k, v in dict.items():\n",
    "    print(k,v)"
   ]
  },
  {
   "cell_type": "code",
   "execution_count": null,
   "id": "f579a136-bfcd-4bf0-8853-b79b75eafaea",
   "metadata": {},
   "outputs": [],
   "source": []
  }
 ],
 "metadata": {
  "kernelspec": {
   "display_name": "Python 3 (ipykernel)",
   "language": "python",
   "name": "python3"
  },
  "language_info": {
   "codemirror_mode": {
    "name": "ipython",
    "version": 3
   },
   "file_extension": ".py",
   "mimetype": "text/x-python",
   "name": "python",
   "nbconvert_exporter": "python",
   "pygments_lexer": "ipython3",
   "version": "3.12.7"
  }
 },
 "nbformat": 4,
 "nbformat_minor": 5
}

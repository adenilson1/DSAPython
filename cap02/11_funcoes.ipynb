{
 "cells": [
  {
   "cell_type": "markdown",
   "id": "f3609e9d-f28e-4441-9257-874001d75b7d",
   "metadata": {},
   "source": [
    "### Funções "
   ]
  },
  {
   "cell_type": "code",
   "execution_count": 1,
   "id": "f9192d23-9cea-4cf7-808a-9d946bbb2fcb",
   "metadata": {},
   "outputs": [
    {
     "name": "stdout",
     "output_type": "stream",
     "text": [
      "Hello world\n"
     ]
    }
   ],
   "source": [
    "print('Hello world')"
   ]
  },
  {
   "cell_type": "code",
   "execution_count": 2,
   "id": "fa79a498-42b5-4e11-963b-ca998cacc32c",
   "metadata": {},
   "outputs": [],
   "source": [
    "# Definindo um função\n",
    "def primeiraFunc():\n",
    "    nome = 'Bob'\n",
    "    print('Hello %s' %(nome))"
   ]
  },
  {
   "cell_type": "code",
   "execution_count": 3,
   "id": "a400281a-31c0-4bb8-b97d-8d75ff7da00c",
   "metadata": {},
   "outputs": [
    {
     "name": "stdout",
     "output_type": "stream",
     "text": [
      "Hello Bob\n"
     ]
    }
   ],
   "source": [
    "primeiraFunc()"
   ]
  },
  {
   "cell_type": "code",
   "execution_count": 6,
   "id": "caf168c7-85c9-478e-8cdb-c3da84ce480a",
   "metadata": {},
   "outputs": [],
   "source": [
    "# Definindo uma função com paramentros\n",
    "def segundaFunc(nome):\n",
    "    print('Hello %s' %(nome))\n",
    "    "
   ]
  },
  {
   "cell_type": "code",
   "execution_count": 7,
   "id": "f9d39dbc-e7e6-4537-8c08-7fda50423559",
   "metadata": {},
   "outputs": [
    {
     "name": "stdout",
     "output_type": "stream",
     "text": [
      "Hello Aluno\n"
     ]
    }
   ],
   "source": [
    "segundaFunc('Aluno')"
   ]
  },
  {
   "cell_type": "code",
   "execution_count": 8,
   "id": "51be9240-20ac-4b87-adb9-f046460171b1",
   "metadata": {},
   "outputs": [],
   "source": [
    "# imprimindo numeros\n",
    "def imprimeNumeros():\n",
    "    for i in range(0,5):\n",
    "        print('Número ' + str(i))\n",
    "        "
   ]
  },
  {
   "cell_type": "code",
   "execution_count": 9,
   "id": "6c4720c5-218a-4d06-ad8e-3168f21c739a",
   "metadata": {},
   "outputs": [
    {
     "name": "stdout",
     "output_type": "stream",
     "text": [
      "Número 0\n",
      "Número 1\n",
      "Número 2\n",
      "Número 3\n",
      "Número 4\n"
     ]
    }
   ],
   "source": [
    "imprimeNumeros()"
   ]
  },
  {
   "cell_type": "code",
   "execution_count": 10,
   "id": "4c8a2f38-e109-4c0a-8cc0-d30240d0c55a",
   "metadata": {},
   "outputs": [],
   "source": [
    "# função para soma numeros\n",
    "def addNums(firstNum, secondNum):\n",
    "    print('Primeiro número: ' + str(firstNum))\n",
    "    print('Segundo número: ' + str(secondNum))\n",
    "    print('Soma: ', firstNum + secondNum)"
   ]
  },
  {
   "cell_type": "code",
   "execution_count": 11,
   "id": "c0675aeb-ae5a-45e2-a074-bde4713be800",
   "metadata": {},
   "outputs": [
    {
     "name": "stdout",
     "output_type": "stream",
     "text": [
      "Primeiro número: 4\n",
      "Segundo número: 7\n",
      "Soma:  11\n"
     ]
    }
   ],
   "source": [
    "addNums(4,7)"
   ]
  },
  {
   "cell_type": "code",
   "execution_count": 12,
   "id": "b727a724-7ebc-416e-94d7-25380147671c",
   "metadata": {},
   "outputs": [
    {
     "name": "stdout",
     "output_type": "stream",
     "text": [
      "Primeiro número: 45\n",
      "Segundo número: 3\n",
      "Soma:  48\n"
     ]
    }
   ],
   "source": [
    "addNums(45,3)"
   ]
  },
  {
   "cell_type": "code",
   "execution_count": 27,
   "id": "c96d44a1-dbb8-46f6-952d-5818e40c151a",
   "metadata": {},
   "outputs": [],
   "source": [
    "# FUnção com numero variavel de argumentos\n",
    "def printVarInfo(arg1, *vartuple ):\n",
    "    #primeiro valor\n",
    "    print('O parâmentro passado foi: ', arg1)\n",
    "\n",
    "    #imprimindo o valor do segundo argumento\n",
    "    for item in vartuple:\n",
    "        print('O pâramentro passado foi: ', item)\n",
    "    return"
   ]
  },
  {
   "cell_type": "code",
   "execution_count": 28,
   "id": "1e078884-5665-4b10-9ec0-44b40ac4294c",
   "metadata": {},
   "outputs": [
    {
     "name": "stdout",
     "output_type": "stream",
     "text": [
      "O parâmentro passado foi:  10\n"
     ]
    }
   ],
   "source": [
    "printVarInfo(10)"
   ]
  },
  {
   "cell_type": "code",
   "execution_count": 29,
   "id": "2f06ef51-4507-4c05-b7a9-cdce6ed2de55",
   "metadata": {},
   "outputs": [
    {
     "name": "stdout",
     "output_type": "stream",
     "text": [
      "O parâmentro passado foi:  Chocolate\n",
      "O pâramentro passado foi:  Morango\n"
     ]
    }
   ],
   "source": [
    "printVarInfo('Chocolate','Morango')"
   ]
  },
  {
   "cell_type": "code",
   "execution_count": 30,
   "id": "f8a123a3-1164-46b6-b345-4c13f23eb8d8",
   "metadata": {},
   "outputs": [
    {
     "name": "stdout",
     "output_type": "stream",
     "text": [
      "O parâmentro passado foi:  Data\n",
      "O pâramentro passado foi:  Science\n",
      "O pâramentro passado foi:  Academy\n"
     ]
    }
   ],
   "source": [
    "printVarInfo('Data','Science','Academy')"
   ]
  },
  {
   "cell_type": "code",
   "execution_count": null,
   "id": "94e2a8c1-3afd-486a-bba0-516ca118718f",
   "metadata": {},
   "outputs": [],
   "source": []
  }
 ],
 "metadata": {
  "kernelspec": {
   "display_name": "Python 3 (ipykernel)",
   "language": "python",
   "name": "python3"
  },
  "language_info": {
   "codemirror_mode": {
    "name": "ipython",
    "version": 3
   },
   "file_extension": ".py",
   "mimetype": "text/x-python",
   "name": "python",
   "nbconvert_exporter": "python",
   "pygments_lexer": "ipython3",
   "version": "3.12.7"
  }
 },
 "nbformat": 4,
 "nbformat_minor": 5
}

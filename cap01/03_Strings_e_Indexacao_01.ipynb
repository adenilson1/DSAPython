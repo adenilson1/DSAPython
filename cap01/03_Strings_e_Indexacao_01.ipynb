{
 "cells": [
  {
   "cell_type": "markdown",
   "id": "b5ac2bc1-7690-4871-a71f-04f165f2abf5",
   "metadata": {},
   "source": [
    "## String e Indexação"
   ]
  },
  {
   "cell_type": "code",
   "execution_count": 1,
   "id": "3bc21f14-00a3-4969-a78a-f052cc31be8c",
   "metadata": {},
   "outputs": [
    {
     "data": {
      "text/plain": [
       "'Oi'"
      ]
     },
     "execution_count": 1,
     "metadata": {},
     "output_type": "execute_result"
    }
   ],
   "source": [
    "# Uma unica palavra \n",
    "'Oi'"
   ]
  },
  {
   "cell_type": "code",
   "execution_count": 2,
   "id": "04482429-9540-46c8-946c-cc3a97250129",
   "metadata": {},
   "outputs": [
    {
     "data": {
      "text/plain": [
       "'Olá Mundo'"
      ]
     },
     "execution_count": 2,
     "metadata": {},
     "output_type": "execute_result"
    }
   ],
   "source": [
    "# Uma frase\n",
    "'Olá Mundo'"
   ]
  },
  {
   "cell_type": "code",
   "execution_count": 3,
   "id": "dcb30e80-d333-4c03-9cfe-86893f2c735b",
   "metadata": {},
   "outputs": [
    {
     "data": {
      "text/plain": [
       "'Uso de aspas duplas'"
      ]
     },
     "execution_count": 3,
     "metadata": {},
     "output_type": "execute_result"
    }
   ],
   "source": [
    "# Pode usar aspas duplas \n",
    "\"Uso de aspas duplas\""
   ]
  },
  {
   "cell_type": "code",
   "execution_count": 4,
   "id": "8ae2bd0d-d9a5-4aaf-9087-ba8023313d9e",
   "metadata": {},
   "outputs": [],
   "source": [
    "# Uso de aspas simples com duplas"
   ]
  },
  {
   "cell_type": "code",
   "execution_count": 5,
   "id": "91c5cd9e-326d-4e4a-9edb-06b9ffd60357",
   "metadata": {},
   "outputs": [
    {
     "data": {
      "text/plain": [
       "\"Uso de 'aspas' em Python\""
      ]
     },
     "execution_count": 5,
     "metadata": {},
     "output_type": "execute_result"
    }
   ],
   "source": [
    "\"Uso de 'aspas' em Python\""
   ]
  },
  {
   "cell_type": "markdown",
   "id": "136bcc5c-711f-4d52-86d1-6e46bf0dde75",
   "metadata": {},
   "source": [
    "## Imprimindo uma String"
   ]
  },
  {
   "cell_type": "code",
   "execution_count": 6,
   "id": "15283e6c-f90e-4367-b099-ebb1de04bf9a",
   "metadata": {},
   "outputs": [
    {
     "name": "stdout",
     "output_type": "stream",
     "text": [
      "Ola mundo, estou vivo!!\n"
     ]
    }
   ],
   "source": [
    "print('Ola mundo, estou vivo!!')"
   ]
  },
  {
   "cell_type": "code",
   "execution_count": 7,
   "id": "3791565d-a72e-40c2-beb1-d7239c84f1cb",
   "metadata": {},
   "outputs": [
    {
     "name": "stdout",
     "output_type": "stream",
     "text": [
      "testando \n",
      "quebra \n",
      "de \n",
      "linha\n"
     ]
    }
   ],
   "source": [
    "# quebra de linha\n",
    "print('testando \\nquebra \\nde \\nlinha')"
   ]
  },
  {
   "cell_type": "code",
   "execution_count": 9,
   "id": "21f81f72-1815-423f-a3ba-19075b578223",
   "metadata": {},
   "outputs": [
    {
     "name": "stdout",
     "output_type": "stream",
     "text": [
      "\n",
      "\n"
     ]
    }
   ],
   "source": [
    "print('\\n')"
   ]
  },
  {
   "cell_type": "markdown",
   "id": "d6b27bac-a84e-4bfd-8c5c-7b3645bb1faf",
   "metadata": {},
   "source": [
    "## Indexando String"
   ]
  },
  {
   "cell_type": "code",
   "execution_count": 10,
   "id": "7035000e-bb5b-4831-8b0b-98c5b3ac8235",
   "metadata": {},
   "outputs": [],
   "source": [
    "# Atribuindo uma string\n",
    "s = 'Data Science Academy'"
   ]
  },
  {
   "cell_type": "code",
   "execution_count": 11,
   "id": "51dbb2e0-3998-4ec4-85c3-43a3f69967bc",
   "metadata": {},
   "outputs": [
    {
     "data": {
      "text/plain": [
       "'Data Science Academy'"
      ]
     },
     "execution_count": 11,
     "metadata": {},
     "output_type": "execute_result"
    }
   ],
   "source": [
    "s"
   ]
  },
  {
   "cell_type": "code",
   "execution_count": 13,
   "id": "4dc334e7-0a71-49c7-9135-92b7b259750d",
   "metadata": {},
   "outputs": [
    {
     "name": "stdout",
     "output_type": "stream",
     "text": [
      "Data Science Academy\n"
     ]
    }
   ],
   "source": [
    "print(s)"
   ]
  },
  {
   "cell_type": "code",
   "execution_count": 14,
   "id": "a9d955de-de59-44e3-8773-a0f46efe6ce5",
   "metadata": {},
   "outputs": [
    {
     "data": {
      "text/plain": [
       "'D'"
      ]
     },
     "execution_count": 14,
     "metadata": {},
     "output_type": "execute_result"
    }
   ],
   "source": [
    "#primeiro elemento\n",
    "s[0]"
   ]
  },
  {
   "cell_type": "code",
   "execution_count": 15,
   "id": "a9de2fdb-2a0b-4e41-86ef-218cc2c4a703",
   "metadata": {},
   "outputs": [
    {
     "data": {
      "text/plain": [
       "'a'"
      ]
     },
     "execution_count": 15,
     "metadata": {},
     "output_type": "execute_result"
    }
   ],
   "source": [
    "s[1]"
   ]
  },
  {
   "cell_type": "code",
   "execution_count": 16,
   "id": "7e872fb5-bef4-49e6-a9d6-7b54a8351934",
   "metadata": {},
   "outputs": [
    {
     "data": {
      "text/plain": [
       "'t'"
      ]
     },
     "execution_count": 16,
     "metadata": {},
     "output_type": "execute_result"
    }
   ],
   "source": [
    "s[2]"
   ]
  },
  {
   "cell_type": "code",
   "execution_count": 17,
   "id": "bde03185-3b02-47e0-94cd-50d345584df3",
   "metadata": {},
   "outputs": [
    {
     "data": {
      "text/plain": [
       "'a'"
      ]
     },
     "execution_count": 17,
     "metadata": {},
     "output_type": "execute_result"
    }
   ],
   "source": [
    "s[3]"
   ]
  },
  {
   "cell_type": "code",
   "execution_count": 18,
   "id": "da1b5e12-9095-4dc1-9b45-be1527f16c3b",
   "metadata": {},
   "outputs": [
    {
     "data": {
      "text/plain": [
       "' '"
      ]
     },
     "execution_count": 18,
     "metadata": {},
     "output_type": "execute_result"
    }
   ],
   "source": [
    "s[4]"
   ]
  },
  {
   "cell_type": "code",
   "execution_count": null,
   "id": "82c5636d-e3a5-485d-92d6-dfcad3532ef9",
   "metadata": {},
   "outputs": [],
   "source": []
  }
 ],
 "metadata": {
  "kernelspec": {
   "display_name": "Python 3 (ipykernel)",
   "language": "python",
   "name": "python3"
  },
  "language_info": {
   "codemirror_mode": {
    "name": "ipython",
    "version": 3
   },
   "file_extension": ".py",
   "mimetype": "text/x-python",
   "name": "python",
   "nbconvert_exporter": "python",
   "pygments_lexer": "ipython3",
   "version": "3.12.7"
  }
 },
 "nbformat": 4,
 "nbformat_minor": 5
}

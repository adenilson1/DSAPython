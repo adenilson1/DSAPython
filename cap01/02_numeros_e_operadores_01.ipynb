{
 "cells": [
  {
   "cell_type": "markdown",
   "id": "4858affa-51ea-49da-b2d9-1cf73ebe08b2",
   "metadata": {},
   "source": [
    "## Trabalhando com Variáveis"
   ]
  },
  {
   "cell_type": "code",
   "execution_count": 1,
   "id": "b5ba03d0-de04-4e6a-a845-d990ee717315",
   "metadata": {},
   "outputs": [],
   "source": [
    "# Atribuindo o valor 1 à variável var_teste\n",
    "var_teste = 1"
   ]
  },
  {
   "cell_type": "code",
   "execution_count": 2,
   "id": "6375a78d-a88b-47b3-8cc1-f907a961b798",
   "metadata": {},
   "outputs": [
    {
     "data": {
      "text/plain": [
       "1"
      ]
     },
     "execution_count": 2,
     "metadata": {},
     "output_type": "execute_result"
    }
   ],
   "source": [
    "# Imprimindo o valor da variável\n",
    "var_teste"
   ]
  },
  {
   "cell_type": "code",
   "execution_count": 3,
   "id": "84959975-5f54-45e4-8f80-0944905e1d11",
   "metadata": {},
   "outputs": [
    {
     "ename": "NameError",
     "evalue": "name 'my_var' is not defined",
     "output_type": "error",
     "traceback": [
      "\u001b[0;31m---------------------------------------------------------------------------\u001b[0m",
      "\u001b[0;31mNameError\u001b[0m                                 Traceback (most recent call last)",
      "Cell \u001b[0;32mIn[3], line 2\u001b[0m\n\u001b[1;32m      1\u001b[0m \u001b[38;5;66;03m# Não peodmos utilizar uma variável que não definida. messagem de erro\u001b[39;00m\n\u001b[0;32m----> 2\u001b[0m my_var\n",
      "\u001b[0;31mNameError\u001b[0m: name 'my_var' is not defined"
     ]
    }
   ],
   "source": [
    "# Não peodmos utilizar uma variável que não definida. messagem de erro\n",
    "my_var"
   ]
  },
  {
   "cell_type": "code",
   "execution_count": 4,
   "id": "710d2a24-39c2-4f1c-9932-67a0e26242b6",
   "metadata": {},
   "outputs": [],
   "source": [
    "var_teste = 2 "
   ]
  },
  {
   "cell_type": "code",
   "execution_count": 5,
   "id": "5c699fb2-f97c-45ec-a326-3ab10cf2fe8e",
   "metadata": {},
   "outputs": [
    {
     "data": {
      "text/plain": [
       "2"
      ]
     },
     "execution_count": 5,
     "metadata": {},
     "output_type": "execute_result"
    }
   ],
   "source": [
    "var_teste"
   ]
  },
  {
   "cell_type": "code",
   "execution_count": 6,
   "id": "f52ea7c3-2ba2-4a79-b3e2-1df49f20c51f",
   "metadata": {},
   "outputs": [
    {
     "data": {
      "text/plain": [
       "int"
      ]
     },
     "execution_count": 6,
     "metadata": {},
     "output_type": "execute_result"
    }
   ],
   "source": [
    "type(var_teste)"
   ]
  },
  {
   "cell_type": "code",
   "execution_count": 7,
   "id": "d86eec04-bc99-4b62-a7a2-45f3514ed795",
   "metadata": {},
   "outputs": [],
   "source": [
    "var_teste = 9.5"
   ]
  },
  {
   "cell_type": "code",
   "execution_count": 8,
   "id": "33be579e-7da5-496d-bb27-fdfdbc52b4cd",
   "metadata": {},
   "outputs": [
    {
     "data": {
      "text/plain": [
       "float"
      ]
     },
     "execution_count": 8,
     "metadata": {},
     "output_type": "execute_result"
    }
   ],
   "source": [
    "type(var_teste)"
   ]
  },
  {
   "cell_type": "code",
   "execution_count": 9,
   "id": "588f61b4-87f4-4636-9465-844699a810a4",
   "metadata": {},
   "outputs": [],
   "source": [
    "x = 1"
   ]
  },
  {
   "cell_type": "code",
   "execution_count": 10,
   "id": "8e6d73d5-a69b-4193-abbd-6eebfedd67c0",
   "metadata": {},
   "outputs": [
    {
     "data": {
      "text/plain": [
       "1"
      ]
     },
     "execution_count": 10,
     "metadata": {},
     "output_type": "execute_result"
    }
   ],
   "source": [
    "x"
   ]
  },
  {
   "cell_type": "markdown",
   "id": "9b83457c-75a3-406e-b82f-2bbdd7d69b7e",
   "metadata": {},
   "source": [
    "## Declaração Múltipla"
   ]
  },
  {
   "cell_type": "code",
   "execution_count": 11,
   "id": "84052451-c8a0-4a6f-bed9-13c76e42dc95",
   "metadata": {},
   "outputs": [],
   "source": [
    "pessoa1, pessoa2, pessoa3 = \"Bob\", \"Maria\", \"Ana\""
   ]
  },
  {
   "cell_type": "code",
   "execution_count": 12,
   "id": "a8068f93-4836-4678-9173-fd84d571ee39",
   "metadata": {},
   "outputs": [
    {
     "data": {
      "text/plain": [
       "'Bob'"
      ]
     },
     "execution_count": 12,
     "metadata": {},
     "output_type": "execute_result"
    }
   ],
   "source": [
    "pessoa1"
   ]
  },
  {
   "cell_type": "code",
   "execution_count": 13,
   "id": "19f9ccd7-49e9-483e-8f95-26a39248c0e8",
   "metadata": {},
   "outputs": [
    {
     "data": {
      "text/plain": [
       "'Maria'"
      ]
     },
     "execution_count": 13,
     "metadata": {},
     "output_type": "execute_result"
    }
   ],
   "source": [
    "pessoa2"
   ]
  },
  {
   "cell_type": "code",
   "execution_count": 14,
   "id": "04d75a45-f238-428a-b212-05d83da27d6e",
   "metadata": {},
   "outputs": [
    {
     "data": {
      "text/plain": [
       "'Ana'"
      ]
     },
     "execution_count": 14,
     "metadata": {},
     "output_type": "execute_result"
    }
   ],
   "source": [
    "pessoa3"
   ]
  },
  {
   "cell_type": "code",
   "execution_count": 15,
   "id": "34d73372-bc91-43ae-ad49-b5f568dfd4bf",
   "metadata": {},
   "outputs": [],
   "source": [
    "fruta1 = fruta2 = fruta3 = \"Melancia\""
   ]
  },
  {
   "cell_type": "code",
   "execution_count": 19,
   "id": "c579a34d-750d-4a8a-bd9f-2d0459c57fbe",
   "metadata": {},
   "outputs": [
    {
     "data": {
      "text/plain": [
       "'Melancia'"
      ]
     },
     "execution_count": 19,
     "metadata": {},
     "output_type": "execute_result"
    }
   ],
   "source": [
    "fruta1"
   ]
  },
  {
   "cell_type": "code",
   "execution_count": 21,
   "id": "89c49d65-f9dd-4bcd-9583-668a8ea9acb4",
   "metadata": {},
   "outputs": [
    {
     "data": {
      "text/plain": [
       "'Melancia'"
      ]
     },
     "execution_count": 21,
     "metadata": {},
     "output_type": "execute_result"
    }
   ],
   "source": [
    "fruta2"
   ]
  },
  {
   "cell_type": "code",
   "execution_count": 22,
   "id": "5a1cfff5-19cb-44c3-91e2-673b631e185f",
   "metadata": {},
   "outputs": [
    {
     "data": {
      "text/plain": [
       "'Melancia'"
      ]
     },
     "execution_count": 22,
     "metadata": {},
     "output_type": "execute_result"
    }
   ],
   "source": [
    "fruta3"
   ]
  }
 ],
 "metadata": {
  "kernelspec": {
   "display_name": "Python 3 (ipykernel)",
   "language": "python",
   "name": "python3"
  },
  "language_info": {
   "codemirror_mode": {
    "name": "ipython",
    "version": 3
   },
   "file_extension": ".py",
   "mimetype": "text/x-python",
   "name": "python",
   "nbconvert_exporter": "python",
   "pygments_lexer": "ipython3",
   "version": "3.12.7"
  }
 },
 "nbformat": 4,
 "nbformat_minor": 5
}

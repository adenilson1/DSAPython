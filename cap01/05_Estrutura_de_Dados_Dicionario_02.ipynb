{
 "cells": [
  {
   "cell_type": "markdown",
   "id": "2b8200f2-2653-4b35-ad52-a08f7d00e654",
   "metadata": {},
   "source": [
    "### Trabalhando com Dicionarios de Dados"
   ]
  },
  {
   "cell_type": "code",
   "execution_count": 1,
   "id": "b921e8df-c6bc-423e-91dc-c1d1221aa6b2",
   "metadata": {},
   "outputs": [],
   "source": [
    "# Isso é uma lista\n",
    "estudantes_list = ['Pedro',24,'Ana',22,'Ronaldo',26,'Jnaina',25]"
   ]
  },
  {
   "cell_type": "code",
   "execution_count": 2,
   "id": "b3439604-7d20-45ec-a7e5-9f5eb82cc8f8",
   "metadata": {},
   "outputs": [
    {
     "data": {
      "text/plain": [
       "['Pedro', 24, 'Ana', 22, 'Ronaldo', 26, 'Jnaina', 25]"
      ]
     },
     "execution_count": 2,
     "metadata": {},
     "output_type": "execute_result"
    }
   ],
   "source": [
    "estudantes_list"
   ]
  },
  {
   "cell_type": "code",
   "execution_count": 3,
   "id": "b566cacb-cc5a-48a0-8ac0-fb6cde8442db",
   "metadata": {},
   "outputs": [],
   "source": [
    "# nota: os elementos da lista são idependetes, ou seja, nao são conectados uns com outros "
   ]
  },
  {
   "cell_type": "code",
   "execution_count": 4,
   "id": "3b6001f0-4c14-41d5-b9e1-0e8f5fe3db93",
   "metadata": {},
   "outputs": [
    {
     "data": {
      "text/plain": [
       "list"
      ]
     },
     "execution_count": 4,
     "metadata": {},
     "output_type": "execute_result"
    }
   ],
   "source": [
    "type(estudantes_list)"
   ]
  },
  {
   "cell_type": "code",
   "execution_count": 6,
   "id": "6cc322c3-a044-4389-9eae-d61a64148530",
   "metadata": {},
   "outputs": [],
   "source": [
    "# Dicionario: ao contrario da lista, ele faz conecçẽos entre os elementos, mesmos com os tipos sendo diferentes\n",
    "# constroi dicionarios com o uso das chaves '{}': estrutura chave:valor\n",
    "estudantes_dict = {'Pedro':24, 'Ana':22, 'Ronaldo':26, 'Janaina':25}"
   ]
  },
  {
   "cell_type": "code",
   "execution_count": 7,
   "id": "c0248ce4-1507-481a-ad85-90eb829b2dfe",
   "metadata": {},
   "outputs": [
    {
     "data": {
      "text/plain": [
       "{'Pedro': 24, 'Ana': 22, 'Ronaldo': 26, 'Janaina': 25}"
      ]
     },
     "execution_count": 7,
     "metadata": {},
     "output_type": "execute_result"
    }
   ],
   "source": [
    "estudantes_dict"
   ]
  },
  {
   "cell_type": "code",
   "execution_count": 8,
   "id": "f1871047-4a29-4064-a696-4ae97e81a206",
   "metadata": {},
   "outputs": [
    {
     "data": {
      "text/plain": [
       "24"
      ]
     },
     "execution_count": 8,
     "metadata": {},
     "output_type": "execute_result"
    }
   ],
   "source": [
    "estudantes_dict['Pedro']"
   ]
  },
  {
   "cell_type": "code",
   "execution_count": 9,
   "id": "06324b8e-8caf-4f9a-b79f-5eba27cce43b",
   "metadata": {},
   "outputs": [],
   "source": [
    "estudantes_dict['Marcelo'] = 23"
   ]
  },
  {
   "cell_type": "code",
   "execution_count": 10,
   "id": "51935c02-76c5-48b5-9d64-14e2dd5f0053",
   "metadata": {},
   "outputs": [
    {
     "data": {
      "text/plain": [
       "23"
      ]
     },
     "execution_count": 10,
     "metadata": {},
     "output_type": "execute_result"
    }
   ],
   "source": [
    "estudantes_dict['Marcelo']"
   ]
  },
  {
   "cell_type": "code",
   "execution_count": 11,
   "id": "85f2bbbe-5441-4c50-8d7d-8205506910cd",
   "metadata": {},
   "outputs": [
    {
     "data": {
      "text/plain": [
       "dict"
      ]
     },
     "execution_count": 11,
     "metadata": {},
     "output_type": "execute_result"
    }
   ],
   "source": [
    "type(estudantes_dict)"
   ]
  },
  {
   "cell_type": "code",
   "execution_count": 12,
   "id": "0383d0a8-3882-424c-803b-96ac13663fde",
   "metadata": {},
   "outputs": [],
   "source": [
    "estudantes_dict.clear()"
   ]
  },
  {
   "cell_type": "code",
   "execution_count": 13,
   "id": "9fb98f0c-9707-4423-b3b7-50feb52716f1",
   "metadata": {},
   "outputs": [
    {
     "data": {
      "text/plain": [
       "{}"
      ]
     },
     "execution_count": 13,
     "metadata": {},
     "output_type": "execute_result"
    }
   ],
   "source": [
    "estudantes_dict"
   ]
  },
  {
   "cell_type": "code",
   "execution_count": 14,
   "id": "3b2b2424-c15f-4810-9e6e-5e9c123d2d2a",
   "metadata": {},
   "outputs": [],
   "source": [
    "del estudantes_dict"
   ]
  },
  {
   "cell_type": "code",
   "execution_count": 15,
   "id": "75b7b0d3-4cae-4348-afda-af9c96302997",
   "metadata": {},
   "outputs": [
    {
     "ename": "NameError",
     "evalue": "name 'estudantes_dict' is not defined",
     "output_type": "error",
     "traceback": [
      "\u001b[0;31m---------------------------------------------------------------------------\u001b[0m",
      "\u001b[0;31mNameError\u001b[0m                                 Traceback (most recent call last)",
      "Cell \u001b[0;32mIn[15], line 1\u001b[0m\n\u001b[0;32m----> 1\u001b[0m estudantes_dict\n",
      "\u001b[0;31mNameError\u001b[0m: name 'estudantes_dict' is not defined"
     ]
    }
   ],
   "source": [
    "estudantes_dict"
   ]
  },
  {
   "cell_type": "code",
   "execution_count": 16,
   "id": "ee915931-f955-49a6-87ae-a822774fb714",
   "metadata": {},
   "outputs": [],
   "source": [
    "estudantes = {'Pedro':24, 'Ana':22, 'Ronaldo':26, 'Janaina':25}"
   ]
  },
  {
   "cell_type": "code",
   "execution_count": 17,
   "id": "277fc69b-ba9f-4982-9dd5-6b0f9b1d7649",
   "metadata": {},
   "outputs": [
    {
     "data": {
      "text/plain": [
       "{'Pedro': 24, 'Ana': 22, 'Ronaldo': 26, 'Janaina': 25}"
      ]
     },
     "execution_count": 17,
     "metadata": {},
     "output_type": "execute_result"
    }
   ],
   "source": [
    "estudantes"
   ]
  },
  {
   "cell_type": "code",
   "execution_count": 18,
   "id": "626cd019-0924-43b4-a13a-13b4cc261059",
   "metadata": {},
   "outputs": [
    {
     "data": {
      "text/plain": [
       "4"
      ]
     },
     "execution_count": 18,
     "metadata": {},
     "output_type": "execute_result"
    }
   ],
   "source": [
    "len(estudantes)"
   ]
  },
  {
   "cell_type": "code",
   "execution_count": 19,
   "id": "24f2dded-a674-4ce8-82d1-d078b58d2719",
   "metadata": {},
   "outputs": [
    {
     "data": {
      "text/plain": [
       "dict_keys(['Pedro', 'Ana', 'Ronaldo', 'Janaina'])"
      ]
     },
     "execution_count": 19,
     "metadata": {},
     "output_type": "execute_result"
    }
   ],
   "source": [
    "estudantes.keys()"
   ]
  },
  {
   "cell_type": "code",
   "execution_count": 20,
   "id": "eddcc473-82ce-4c51-ba42-ca99142f3fb0",
   "metadata": {},
   "outputs": [
    {
     "data": {
      "text/plain": [
       "dict_values([24, 22, 26, 25])"
      ]
     },
     "execution_count": 20,
     "metadata": {},
     "output_type": "execute_result"
    }
   ],
   "source": [
    "estudantes.values()"
   ]
  },
  {
   "cell_type": "code",
   "execution_count": 21,
   "id": "1308a53b-2ca8-45ca-9f81-ed5bb12a4183",
   "metadata": {},
   "outputs": [
    {
     "data": {
      "text/plain": [
       "dict_items([('Pedro', 24), ('Ana', 22), ('Ronaldo', 26), ('Janaina', 25)])"
      ]
     },
     "execution_count": 21,
     "metadata": {},
     "output_type": "execute_result"
    }
   ],
   "source": [
    "estudantes.items()"
   ]
  },
  {
   "cell_type": "code",
   "execution_count": 22,
   "id": "4df5a0de-6c6e-4bed-a1a4-74a1815521c3",
   "metadata": {},
   "outputs": [],
   "source": [
    "estudantes2 = {'Camila':27, 'Adriana':28, 'Roberta':26}"
   ]
  },
  {
   "cell_type": "code",
   "execution_count": 23,
   "id": "fa77d962-2a30-4501-a04a-c95d2763c53e",
   "metadata": {},
   "outputs": [
    {
     "data": {
      "text/plain": [
       "{'Camila': 27, 'Adriana': 28, 'Roberta': 26}"
      ]
     },
     "execution_count": 23,
     "metadata": {},
     "output_type": "execute_result"
    }
   ],
   "source": [
    "estudantes2"
   ]
  },
  {
   "cell_type": "code",
   "execution_count": 24,
   "id": "001d6d6e-badb-40b0-9f12-8bc2242ad445",
   "metadata": {},
   "outputs": [],
   "source": [
    "estudantes.update(estudantes2)"
   ]
  },
  {
   "cell_type": "code",
   "execution_count": 25,
   "id": "3625df24-bea9-424d-804e-144893f345f2",
   "metadata": {},
   "outputs": [
    {
     "data": {
      "text/plain": [
       "{'Pedro': 24,\n",
       " 'Ana': 22,\n",
       " 'Ronaldo': 26,\n",
       " 'Janaina': 25,\n",
       " 'Camila': 27,\n",
       " 'Adriana': 28,\n",
       " 'Roberta': 26}"
      ]
     },
     "execution_count": 25,
     "metadata": {},
     "output_type": "execute_result"
    }
   ],
   "source": [
    "estudantes"
   ]
  },
  {
   "cell_type": "code",
   "execution_count": 26,
   "id": "34ec5e2a-a026-4119-83f7-7284e5141051",
   "metadata": {},
   "outputs": [],
   "source": [
    "diel = {}"
   ]
  },
  {
   "cell_type": "code",
   "execution_count": 27,
   "id": "9aca460c-6e92-4814-9470-5ed37393216a",
   "metadata": {},
   "outputs": [
    {
     "data": {
      "text/plain": [
       "{}"
      ]
     },
     "execution_count": 27,
     "metadata": {},
     "output_type": "execute_result"
    }
   ],
   "source": [
    "diel"
   ]
  },
  {
   "cell_type": "code",
   "execution_count": 29,
   "id": "6aff69f0-a57a-440b-a7e8-095e2116b446",
   "metadata": {},
   "outputs": [],
   "source": [
    "diel['chave_um'] = 2"
   ]
  },
  {
   "cell_type": "code",
   "execution_count": 30,
   "id": "5987bf2c-3660-4844-99c5-7786aef45df9",
   "metadata": {},
   "outputs": [
    {
     "name": "stdout",
     "output_type": "stream",
     "text": [
      "{'chave_um': 2}\n"
     ]
    }
   ],
   "source": [
    "print(diel)"
   ]
  },
  {
   "cell_type": "code",
   "execution_count": 31,
   "id": "91c9781b-f71a-4814-b677-c251e36b9382",
   "metadata": {},
   "outputs": [],
   "source": [
    "diel[10] = 5"
   ]
  },
  {
   "cell_type": "code",
   "execution_count": 32,
   "id": "6b29c55a-0ba5-48d4-bceb-6aec0fa1c42f",
   "metadata": {},
   "outputs": [
    {
     "data": {
      "text/plain": [
       "{'chave_um': 2, 10: 5}"
      ]
     },
     "execution_count": 32,
     "metadata": {},
     "output_type": "execute_result"
    }
   ],
   "source": [
    "diel"
   ]
  },
  {
   "cell_type": "code",
   "execution_count": 33,
   "id": "0a1437df-284f-45ba-8f49-1ca223a9a14f",
   "metadata": {},
   "outputs": [],
   "source": [
    "diel[9.13] = 'Python'"
   ]
  },
  {
   "cell_type": "code",
   "execution_count": 34,
   "id": "cf74cfdf-90c1-4b1f-b720-dc3eb5794192",
   "metadata": {},
   "outputs": [
    {
     "data": {
      "text/plain": [
       "{'chave_um': 2, 10: 5, 9.13: 'Python'}"
      ]
     },
     "execution_count": 34,
     "metadata": {},
     "output_type": "execute_result"
    }
   ],
   "source": [
    "diel"
   ]
  },
  {
   "cell_type": "code",
   "execution_count": 35,
   "id": "4a558761-29aa-4c7a-964a-9ce169175fae",
   "metadata": {},
   "outputs": [],
   "source": [
    "diel['teste'] = 5"
   ]
  },
  {
   "cell_type": "code",
   "execution_count": 36,
   "id": "9e50a40c-9f45-4e36-b0cc-179aec6ccf83",
   "metadata": {},
   "outputs": [
    {
     "data": {
      "text/plain": [
       "{'chave_um': 2, 10: 5, 9.13: 'Python', 'teste': 5}"
      ]
     },
     "execution_count": 36,
     "metadata": {},
     "output_type": "execute_result"
    }
   ],
   "source": [
    "diel"
   ]
  },
  {
   "cell_type": "code",
   "execution_count": 37,
   "id": "172af023-b6f8-4921-a5bd-c5ae6d6f7b5d",
   "metadata": {},
   "outputs": [],
   "source": [
    "diel1 = {}"
   ]
  },
  {
   "cell_type": "code",
   "execution_count": 38,
   "id": "1075bba2-fcfe-4209-98e1-f3ffa0c3cc5a",
   "metadata": {},
   "outputs": [
    {
     "data": {
      "text/plain": [
       "{}"
      ]
     },
     "execution_count": 38,
     "metadata": {},
     "output_type": "execute_result"
    }
   ],
   "source": [
    "diel1"
   ]
  },
  {
   "cell_type": "code",
   "execution_count": 39,
   "id": "b54fa3a7-e028-435f-9c7f-653dc233a6c4",
   "metadata": {},
   "outputs": [],
   "source": [
    "diel1['teste'] = 10"
   ]
  },
  {
   "cell_type": "code",
   "execution_count": 40,
   "id": "cc4a3cc4-7b6e-48a0-a338-4c704d5b5abb",
   "metadata": {},
   "outputs": [],
   "source": [
    "diel1['key'] = 'teste'"
   ]
  },
  {
   "cell_type": "code",
   "execution_count": 41,
   "id": "17235df0-1bc2-4dd3-921b-460b9455fdc7",
   "metadata": {},
   "outputs": [
    {
     "data": {
      "text/plain": [
       "{'teste': 10, 'key': 'teste'}"
      ]
     },
     "execution_count": 41,
     "metadata": {},
     "output_type": "execute_result"
    }
   ],
   "source": [
    "# As chaves e valores podem ser iguais, mas representam coisas diferentes.\n",
    "diel1"
   ]
  },
  {
   "cell_type": "code",
   "execution_count": 43,
   "id": "c11130b1-bd08-4f6d-bc8a-50597f6fc1e8",
   "metadata": {},
   "outputs": [],
   "source": [
    "diel2 = {}"
   ]
  },
  {
   "cell_type": "code",
   "execution_count": 44,
   "id": "090a1e06-fb1f-4806-afc4-fe39352d5be2",
   "metadata": {},
   "outputs": [],
   "source": [
    "diel2['key1'] = 'Data'"
   ]
  },
  {
   "cell_type": "code",
   "execution_count": 45,
   "id": "07bf78fe-7284-457d-9ec9-06c8dc1a847a",
   "metadata": {},
   "outputs": [],
   "source": [
    "diel2['key2'] = 10"
   ]
  },
  {
   "cell_type": "code",
   "execution_count": 46,
   "id": "4200d04f-d598-457d-ac06-2fe53d45aa2d",
   "metadata": {},
   "outputs": [],
   "source": [
    "diel2['key3'] = 100"
   ]
  },
  {
   "cell_type": "code",
   "execution_count": 47,
   "id": "ac2682cf-21bb-402a-86d3-6cc3d04b19ef",
   "metadata": {},
   "outputs": [
    {
     "data": {
      "text/plain": [
       "{'key1': 'Data', 'key2': 10, 'key3': 100}"
      ]
     },
     "execution_count": 47,
     "metadata": {},
     "output_type": "execute_result"
    }
   ],
   "source": [
    "diel2"
   ]
  },
  {
   "cell_type": "code",
   "execution_count": 48,
   "id": "dad6eae9-e47c-4709-8458-f83c68e7b354",
   "metadata": {},
   "outputs": [],
   "source": [
    "a = diel2['key1']"
   ]
  },
  {
   "cell_type": "code",
   "execution_count": 49,
   "id": "f43d4795-c75a-4d88-bc96-8c87b526a70c",
   "metadata": {},
   "outputs": [],
   "source": [
    "b = diel2['key2']"
   ]
  },
  {
   "cell_type": "code",
   "execution_count": 50,
   "id": "7c3350fb-52be-4bc5-a3bc-21c3726a0309",
   "metadata": {},
   "outputs": [],
   "source": [
    "c = diel2['key3']"
   ]
  },
  {
   "cell_type": "code",
   "execution_count": 51,
   "id": "33d3663a-ee42-40e7-b440-64e0f04dfec2",
   "metadata": {},
   "outputs": [
    {
     "data": {
      "text/plain": [
       "('Data', 10, 100)"
      ]
     },
     "execution_count": 51,
     "metadata": {},
     "output_type": "execute_result"
    }
   ],
   "source": [
    "a,b,c"
   ]
  },
  {
   "cell_type": "markdown",
   "id": "c12349e4-d273-45e0-a698-c8cc3d34bf68",
   "metadata": {},
   "source": [
    "### Dicionario de Listas"
   ]
  },
  {
   "cell_type": "code",
   "execution_count": 13,
   "id": "59f74998-afe2-473e-b980-51e6a8915455",
   "metadata": {},
   "outputs": [],
   "source": [
    "dict3 = {'chave1':1230, 'chave2':[22,453,73.4], 'chave3':['Picanha', 'Fraldinha','Alcatara']}"
   ]
  },
  {
   "cell_type": "code",
   "execution_count": 14,
   "id": "d4589319-2c7f-41b8-a3ab-984060acd82a",
   "metadata": {},
   "outputs": [
    {
     "data": {
      "text/plain": [
       "{'chave1': 1230,\n",
       " 'chave2': [22, 453, 73.4],\n",
       " 'chave3': ['Picanha', 'Fraldinha', 'Alcatara']}"
      ]
     },
     "execution_count": 14,
     "metadata": {},
     "output_type": "execute_result"
    }
   ],
   "source": [
    "dict3"
   ]
  },
  {
   "cell_type": "code",
   "execution_count": 15,
   "id": "ee7feae4-6839-4009-a6f2-864d1b6dd0b0",
   "metadata": {},
   "outputs": [
    {
     "data": {
      "text/plain": [
       "[22, 453, 73.4]"
      ]
     },
     "execution_count": 15,
     "metadata": {},
     "output_type": "execute_result"
    }
   ],
   "source": [
    "dict3['chave2']"
   ]
  },
  {
   "cell_type": "code",
   "execution_count": 16,
   "id": "e7bcda96-e88f-4dc3-8382-54c83e659ba7",
   "metadata": {},
   "outputs": [
    {
     "data": {
      "text/plain": [
       "'PICANHA'"
      ]
     },
     "execution_count": 16,
     "metadata": {},
     "output_type": "execute_result"
    }
   ],
   "source": [
    "# Acessando um item da lista, dentro do dicionario\n",
    "dict3['chave3'][0].upper()"
   ]
  },
  {
   "cell_type": "code",
   "execution_count": 17,
   "id": "2e015636-d49d-485d-95a4-1b98b9ad5348",
   "metadata": {},
   "outputs": [],
   "source": [
    "# OPeração dom itens da lista, dentro do dicionario\n",
    "var1 = dict3['chave2'][0] - 2"
   ]
  },
  {
   "cell_type": "code",
   "execution_count": 18,
   "id": "e48e63aa-740c-4741-a8ff-3a3d24d32c24",
   "metadata": {},
   "outputs": [
    {
     "data": {
      "text/plain": [
       "20"
      ]
     },
     "execution_count": 18,
     "metadata": {},
     "output_type": "execute_result"
    }
   ],
   "source": [
    "var1"
   ]
  },
  {
   "cell_type": "code",
   "execution_count": 19,
   "id": "a8bf7318-8868-454f-912f-1ecb7cf1748e",
   "metadata": {},
   "outputs": [],
   "source": [
    "# duas operaçẽos\n",
    "dict3['chave2'][0] -= 2"
   ]
  },
  {
   "cell_type": "code",
   "execution_count": 20,
   "id": "a4a5ce1b-0c49-41bc-9c76-3835a42b1456",
   "metadata": {},
   "outputs": [
    {
     "data": {
      "text/plain": [
       "{'chave1': 1230,\n",
       " 'chave2': [20, 453, 73.4],\n",
       " 'chave3': ['Picanha', 'Fraldinha', 'Alcatara']}"
      ]
     },
     "execution_count": 20,
     "metadata": {},
     "output_type": "execute_result"
    }
   ],
   "source": [
    "dict3"
   ]
  },
  {
   "cell_type": "markdown",
   "id": "c80d897a-64c3-4a7f-947d-763b3e599617",
   "metadata": {},
   "source": [
    "### Criando Dicionario Aninhado"
   ]
  },
  {
   "cell_type": "code",
   "execution_count": 23,
   "id": "3fb58063-97bf-4a46-86f3-cb1a7ea78c11",
   "metadata": {},
   "outputs": [],
   "source": [
    "# Criando dicionario aninhado\n",
    "dict_aninhado = {'key1':{'key2_aninhado':{'key3_aninhado':'Doct aninhado em Python'}}}"
   ]
  },
  {
   "cell_type": "code",
   "execution_count": 24,
   "id": "8ac66dd5-1ee8-4134-9b9e-2a212ea52289",
   "metadata": {},
   "outputs": [
    {
     "data": {
      "text/plain": [
       "{'key1': {'key2_aninhado': {'key3_aninhado': 'Doct aninhado em Python'}}}"
      ]
     },
     "execution_count": 24,
     "metadata": {},
     "output_type": "execute_result"
    }
   ],
   "source": [
    "dict_aninhado"
   ]
  },
  {
   "cell_type": "code",
   "execution_count": 25,
   "id": "83bedd50-68e5-4aaa-8cac-346449acd2a4",
   "metadata": {},
   "outputs": [
    {
     "data": {
      "text/plain": [
       "'Doct aninhado em Python'"
      ]
     },
     "execution_count": 25,
     "metadata": {},
     "output_type": "execute_result"
    }
   ],
   "source": [
    "dict_aninhado['key1']['key2_aninhado']['key3_aninhado']"
   ]
  },
  {
   "cell_type": "code",
   "execution_count": null,
   "id": "8a2e1395-4c01-45c2-beae-065af6e063a4",
   "metadata": {},
   "outputs": [],
   "source": []
  }
 ],
 "metadata": {
  "kernelspec": {
   "display_name": "Python 3 (ipykernel)",
   "language": "python",
   "name": "python3"
  },
  "language_info": {
   "codemirror_mode": {
    "name": "ipython",
    "version": 3
   },
   "file_extension": ".py",
   "mimetype": "text/x-python",
   "name": "python",
   "nbconvert_exporter": "python",
   "pygments_lexer": "ipython3",
   "version": "3.12.7"
  }
 },
 "nbformat": 4,
 "nbformat_minor": 5
}

{
 "cells": [
  {
   "cell_type": "markdown",
   "id": "07511a09-f247-4380-bcdc-4f8a17696bcd",
   "metadata": {},
   "source": [
    "### Trabalhando com listas"
   ]
  },
  {
   "cell_type": "code",
   "execution_count": 1,
   "id": "5f9f95c9-9835-4814-84ee-7fc6a907a80e",
   "metadata": {},
   "outputs": [],
   "source": [
    "#Criando uma lista\n",
    "lista_1 = [\"arroz,frango,tomate,leite\"]"
   ]
  },
  {
   "cell_type": "code",
   "execution_count": 2,
   "id": "80afe27f-33b0-4bfb-949b-d00bf4dec8d1",
   "metadata": {},
   "outputs": [
    {
     "data": {
      "text/plain": [
       "list"
      ]
     },
     "execution_count": 2,
     "metadata": {},
     "output_type": "execute_result"
    }
   ],
   "source": [
    "type(lista_1)"
   ]
  },
  {
   "cell_type": "code",
   "execution_count": 3,
   "id": "2f7cc131-49be-47ee-9f3f-c64b30c0e0fd",
   "metadata": {},
   "outputs": [
    {
     "name": "stdout",
     "output_type": "stream",
     "text": [
      "['arroz,frango,tomate,leite']\n"
     ]
    }
   ],
   "source": [
    "#imprimindo lista\n",
    "print(lista_1)"
   ]
  },
  {
   "cell_type": "code",
   "execution_count": 4,
   "id": "adde9fdc-bc1f-4938-bf62-a7290615ee45",
   "metadata": {},
   "outputs": [],
   "source": [
    "#Criando uma outra lista\n",
    "lista_2 = [\"arroz\",\"frango\",\"tomate\",\"leite\"]"
   ]
  },
  {
   "cell_type": "code",
   "execution_count": 5,
   "id": "f6c16863-67e5-4366-9dde-5da0759c8584",
   "metadata": {},
   "outputs": [
    {
     "data": {
      "text/plain": [
       "list"
      ]
     },
     "execution_count": 5,
     "metadata": {},
     "output_type": "execute_result"
    }
   ],
   "source": [
    "type(lista_2)"
   ]
  },
  {
   "cell_type": "code",
   "execution_count": 6,
   "id": "6dcbdc2b-784b-4e43-9400-20e5416f591e",
   "metadata": {},
   "outputs": [
    {
     "name": "stdout",
     "output_type": "stream",
     "text": [
      "['arroz', 'frango', 'tomate', 'leite']\n"
     ]
    }
   ],
   "source": [
    "#Imprimindo lista 2\n",
    "print(lista_2)"
   ]
  },
  {
   "cell_type": "code",
   "execution_count": 7,
   "id": "d5d43087-c9ca-4b01-97bb-051bf040ea59",
   "metadata": {},
   "outputs": [],
   "source": [
    "# Criando a lista\n",
    "lista_3 = [23,100,\"Cientista de Dados\"]"
   ]
  },
  {
   "cell_type": "code",
   "execution_count": 8,
   "id": "18079a5c-5e83-4726-bf9b-6f7332311eee",
   "metadata": {},
   "outputs": [
    {
     "name": "stdout",
     "output_type": "stream",
     "text": [
      "[23, 100, 'Cientista de Dados']\n"
     ]
    }
   ],
   "source": [
    "print(lista_3)"
   ]
  },
  {
   "cell_type": "code",
   "execution_count": 11,
   "id": "ae23e5fc-391b-471a-9de3-d2ba24f6bf37",
   "metadata": {},
   "outputs": [],
   "source": [
    "#Atribuindo cada valor a lista a uma variavel\n",
    "item1 = lista_3[0]\n",
    "item2 = lista_3[1]\n",
    "item3 = lista_3[2]"
   ]
  },
  {
   "cell_type": "code",
   "execution_count": 12,
   "id": "980eb8b8-5809-4626-bb5d-146e8bd1b42d",
   "metadata": {},
   "outputs": [
    {
     "name": "stdout",
     "output_type": "stream",
     "text": [
      "23 100 Cientista de Dados\n"
     ]
    }
   ],
   "source": [
    "#imprindo \n",
    "print(item1,item2,item3)"
   ]
  },
  {
   "cell_type": "markdown",
   "id": "3b0c85eb-eee0-41e2-a4c4-62d161fb3039",
   "metadata": {},
   "source": [
    "### Atualizando uma lista"
   ]
  },
  {
   "cell_type": "code",
   "execution_count": 13,
   "id": "d327eb31-1486-472f-b902-d4327eb2b83c",
   "metadata": {},
   "outputs": [
    {
     "data": {
      "text/plain": [
       "['arroz', 'frango', 'tomate', 'leite']"
      ]
     },
     "execution_count": 13,
     "metadata": {},
     "output_type": "execute_result"
    }
   ],
   "source": [
    "lista_2"
   ]
  },
  {
   "cell_type": "code",
   "execution_count": 14,
   "id": "c38058b0-3256-441b-8d23-9ddcce57eb33",
   "metadata": {},
   "outputs": [],
   "source": [
    "#Atulizando um item da lista\n",
    "lista_2[2] = \"chocolate\""
   ]
  },
  {
   "cell_type": "code",
   "execution_count": 15,
   "id": "f5ad34e8-e485-40b7-b669-1925d79fa7bb",
   "metadata": {},
   "outputs": [
    {
     "data": {
      "text/plain": [
       "['arroz', 'frango', 'chocolate', 'leite']"
      ]
     },
     "execution_count": 15,
     "metadata": {},
     "output_type": "execute_result"
    }
   ],
   "source": [
    "#imprimindo\n",
    "lista_2"
   ]
  },
  {
   "cell_type": "markdown",
   "id": "a9d40d02-c0eb-42e9-a3dc-1648ce3a0c26",
   "metadata": {},
   "source": [
    "### Deletando um item da lista"
   ]
  },
  {
   "cell_type": "code",
   "execution_count": 19,
   "id": "cb982c95-f0be-414e-93ac-c57c924f36d8",
   "metadata": {},
   "outputs": [
    {
     "ename": "IndexError",
     "evalue": "list assignment index out of range",
     "output_type": "error",
     "traceback": [
      "\u001b[0;31m---------------------------------------------------------------------------\u001b[0m",
      "\u001b[0;31mIndexError\u001b[0m                                Traceback (most recent call last)",
      "Cell \u001b[0;32mIn[19], line 2\u001b[0m\n\u001b[1;32m      1\u001b[0m \u001b[38;5;66;03m# Não é possível deletar um item que não existe na lista\u001b[39;00m\n\u001b[0;32m----> 2\u001b[0m \u001b[38;5;28;01mdel\u001b[39;00m lista_2[\u001b[38;5;241m4\u001b[39m]\n",
      "\u001b[0;31mIndexError\u001b[0m: list assignment index out of range"
     ]
    }
   ],
   "source": [
    "# Não é possível deletar um item que não existe na lista\n",
    "del lista_2[4]"
   ]
  },
  {
   "cell_type": "code",
   "execution_count": 20,
   "id": "a743e874-b630-40ae-82c0-2da95f852ae9",
   "metadata": {},
   "outputs": [],
   "source": [
    "del lista_2[3]"
   ]
  },
  {
   "cell_type": "code",
   "execution_count": 22,
   "id": "65bc1870-006a-4d41-aee2-e4624acb20b4",
   "metadata": {},
   "outputs": [
    {
     "data": {
      "text/plain": [
       "['arroz', 'frango', 'chocolate']"
      ]
     },
     "execution_count": 22,
     "metadata": {},
     "output_type": "execute_result"
    }
   ],
   "source": [
    "lista_2"
   ]
  },
  {
   "cell_type": "markdown",
   "id": "8a42f356-145f-49e6-831a-5e8e49f27740",
   "metadata": {},
   "source": [
    "#### Lista de Listas (Listas Aninhadas)"
   ]
  },
  {
   "cell_type": "code",
   "execution_count": 1,
   "id": "0634f4b6-c660-407d-8279-f43e078a15a8",
   "metadata": {},
   "outputs": [],
   "source": [
    "# Criando uma lista de listas\n",
    "listas = [[1,2,3],[10,15,14],[10.1,8.7,2.3]]\n"
   ]
  },
  {
   "cell_type": "code",
   "execution_count": 2,
   "id": "4c7bfe6e-8fea-4187-83f9-82f7935ce8b7",
   "metadata": {},
   "outputs": [
    {
     "name": "stdout",
     "output_type": "stream",
     "text": [
      "[[1, 2, 3], [10, 15, 14], [10.1, 8.7, 2.3]]\n"
     ]
    }
   ],
   "source": [
    "#imprimindo a lista\n",
    "print(listas)"
   ]
  },
  {
   "cell_type": "code",
   "execution_count": 3,
   "id": "b59663d1-fbb7-4b45-ab0a-aebcd90c60dd",
   "metadata": {},
   "outputs": [],
   "source": [
    "#atribuindo um item a lista\n",
    "a = listas[0]"
   ]
  },
  {
   "cell_type": "code",
   "execution_count": 4,
   "id": "8f2e85ee-47d1-4433-be87-2b4dee2e963c",
   "metadata": {},
   "outputs": [
    {
     "data": {
      "text/plain": [
       "[1, 2, 3]"
      ]
     },
     "execution_count": 4,
     "metadata": {},
     "output_type": "execute_result"
    }
   ],
   "source": [
    "a"
   ]
  },
  {
   "cell_type": "code",
   "execution_count": 5,
   "id": "d8d116c7-741e-421b-a0fd-7793cf8927d9",
   "metadata": {},
   "outputs": [],
   "source": [
    "b = a[0]"
   ]
  },
  {
   "cell_type": "code",
   "execution_count": 6,
   "id": "2f7cb7cf-7304-49c8-9fc8-80d4df22b29d",
   "metadata": {},
   "outputs": [
    {
     "data": {
      "text/plain": [
       "1"
      ]
     },
     "execution_count": 6,
     "metadata": {},
     "output_type": "execute_result"
    }
   ],
   "source": [
    "b"
   ]
  },
  {
   "cell_type": "code",
   "execution_count": 7,
   "id": "a9ebbcb4-a0d6-47a3-943e-7d597f763fc9",
   "metadata": {},
   "outputs": [],
   "source": [
    "lista1 = listas[1]"
   ]
  },
  {
   "cell_type": "code",
   "execution_count": 8,
   "id": "9f7bce5f-0d1b-4480-937c-ee41938d4d4c",
   "metadata": {},
   "outputs": [
    {
     "data": {
      "text/plain": [
       "[10, 15, 14]"
      ]
     },
     "execution_count": 8,
     "metadata": {},
     "output_type": "execute_result"
    }
   ],
   "source": [
    "lista1"
   ]
  },
  {
   "cell_type": "code",
   "execution_count": 12,
   "id": "e0d5fdc9-c850-43e8-9670-8a8accc802b9",
   "metadata": {},
   "outputs": [],
   "source": [
    "valor_1_0 = lista1[0]"
   ]
  },
  {
   "cell_type": "code",
   "execution_count": 13,
   "id": "18cfce0d-55f6-46c7-acfc-3598c340c5a5",
   "metadata": {},
   "outputs": [
    {
     "data": {
      "text/plain": [
       "10"
      ]
     },
     "execution_count": 13,
     "metadata": {},
     "output_type": "execute_result"
    }
   ],
   "source": [
    "valor_1_0"
   ]
  },
  {
   "cell_type": "code",
   "execution_count": 15,
   "id": "a635a2a4-13ea-4a30-9668-7751478357a9",
   "metadata": {},
   "outputs": [],
   "source": [
    "valor_1_2 = lista1[2]"
   ]
  },
  {
   "cell_type": "code",
   "execution_count": 16,
   "id": "feeea0d3-db57-416e-b313-9edf6cec570f",
   "metadata": {},
   "outputs": [
    {
     "data": {
      "text/plain": [
       "14"
      ]
     },
     "execution_count": 16,
     "metadata": {},
     "output_type": "execute_result"
    }
   ],
   "source": [
    "valor_1_2"
   ]
  },
  {
   "cell_type": "code",
   "execution_count": 17,
   "id": "e8e93815-e261-40fc-86a3-64b9766ec703",
   "metadata": {},
   "outputs": [],
   "source": [
    "lista2 = listas[2]"
   ]
  },
  {
   "cell_type": "code",
   "execution_count": 18,
   "id": "e6c476ee-f004-4a47-a83d-686391a3cdf5",
   "metadata": {},
   "outputs": [
    {
     "data": {
      "text/plain": [
       "[10.1, 8.7, 2.3]"
      ]
     },
     "execution_count": 18,
     "metadata": {},
     "output_type": "execute_result"
    }
   ],
   "source": [
    "lista2"
   ]
  },
  {
   "cell_type": "code",
   "execution_count": 19,
   "id": "558afaf8-7220-450e-a11e-3b61e50f4794",
   "metadata": {},
   "outputs": [],
   "source": [
    "valor_2_0 = lista2[0]"
   ]
  },
  {
   "cell_type": "code",
   "execution_count": 20,
   "id": "815619b2-b7a1-46ca-9f7e-894b3221d694",
   "metadata": {},
   "outputs": [
    {
     "data": {
      "text/plain": [
       "10.1"
      ]
     },
     "execution_count": 20,
     "metadata": {},
     "output_type": "execute_result"
    }
   ],
   "source": [
    "valor_2_0"
   ]
  },
  {
   "cell_type": "markdown",
   "id": "0241c61e-e76a-4857-a120-bc6503bdd548",
   "metadata": {},
   "source": [
    "### OPerações com listas"
   ]
  },
  {
   "cell_type": "code",
   "execution_count": 21,
   "id": "f9953847-c282-4a9e-9357-8daeaec114e4",
   "metadata": {},
   "outputs": [],
   "source": [
    "# Criando uma lista aninhada \n",
    "listas = [[1,2,3],[10,15,14],[10.1,1.8,7.2,2.3]]"
   ]
  },
  {
   "cell_type": "code",
   "execution_count": 22,
   "id": "8cd89284-3b39-4c2b-8e76-3dec09272b51",
   "metadata": {},
   "outputs": [
    {
     "data": {
      "text/plain": [
       "[[1, 2, 3], [10, 15, 14], [10.1, 1.8, 7.2, 2.3]]"
      ]
     },
     "execution_count": 22,
     "metadata": {},
     "output_type": "execute_result"
    }
   ],
   "source": [
    "listas"
   ]
  },
  {
   "cell_type": "code",
   "execution_count": 23,
   "id": "7a886509-8ca5-4552-8638-93086e24aa1b",
   "metadata": {},
   "outputs": [],
   "source": [
    "# Atribuindo a variavel ao primeiro valor da primeira lista\n",
    "a = listas[0][0]"
   ]
  },
  {
   "cell_type": "code",
   "execution_count": 24,
   "id": "a53b3f80-7255-471e-8a60-226b76f5176c",
   "metadata": {},
   "outputs": [
    {
     "data": {
      "text/plain": [
       "1"
      ]
     },
     "execution_count": 24,
     "metadata": {},
     "output_type": "execute_result"
    }
   ],
   "source": [
    "a"
   ]
  },
  {
   "cell_type": "code",
   "execution_count": 25,
   "id": "a9cd77b5-1fc8-4cb5-bccc-375892f8fca3",
   "metadata": {},
   "outputs": [],
   "source": [
    "b = listas[1][2]"
   ]
  },
  {
   "cell_type": "code",
   "execution_count": 26,
   "id": "42ad0e16-c073-4e7b-ac44-0fbbc2c0dbbe",
   "metadata": {},
   "outputs": [
    {
     "data": {
      "text/plain": [
       "14"
      ]
     },
     "execution_count": 26,
     "metadata": {},
     "output_type": "execute_result"
    }
   ],
   "source": [
    "b"
   ]
  },
  {
   "cell_type": "code",
   "execution_count": 27,
   "id": "4f3ddff6-1752-42e8-b68b-d3a79e6fa90f",
   "metadata": {},
   "outputs": [],
   "source": [
    "c = listas[0][2] + 10"
   ]
  },
  {
   "cell_type": "code",
   "execution_count": 28,
   "id": "ed594bdf-023d-4690-b5bb-7a0d0cfddc56",
   "metadata": {},
   "outputs": [
    {
     "data": {
      "text/plain": [
       "13"
      ]
     },
     "execution_count": 28,
     "metadata": {},
     "output_type": "execute_result"
    }
   ],
   "source": [
    "c"
   ]
  },
  {
   "cell_type": "code",
   "execution_count": 29,
   "id": "51e1fd82-1ddd-4022-88bb-31490b7d0eff",
   "metadata": {},
   "outputs": [],
   "source": [
    "d = 10"
   ]
  },
  {
   "cell_type": "code",
   "execution_count": 30,
   "id": "10157c92-8032-4922-a922-699e1fe4ef5a",
   "metadata": {},
   "outputs": [
    {
     "data": {
      "text/plain": [
       "10"
      ]
     },
     "execution_count": 30,
     "metadata": {},
     "output_type": "execute_result"
    }
   ],
   "source": [
    "d"
   ]
  },
  {
   "cell_type": "code",
   "execution_count": 31,
   "id": "ad5f6f50-94aa-4890-8be7-29d9bc78c7ff",
   "metadata": {},
   "outputs": [],
   "source": [
    "e = d * listas[2][0]"
   ]
  },
  {
   "cell_type": "code",
   "execution_count": 32,
   "id": "229df91c-c0d3-4ff4-9bd4-e7db7ff248e8",
   "metadata": {},
   "outputs": [
    {
     "data": {
      "text/plain": [
       "101.0"
      ]
     },
     "execution_count": 32,
     "metadata": {},
     "output_type": "execute_result"
    }
   ],
   "source": [
    "e"
   ]
  },
  {
   "cell_type": "markdown",
   "id": "2fae6c64-233b-4947-a3c2-33025c7f3286",
   "metadata": {},
   "source": [
    "### Concatenando Listas"
   ]
  },
  {
   "cell_type": "code",
   "execution_count": 33,
   "id": "f0ac581c-4ec7-4752-8e14-68bc89eac386",
   "metadata": {},
   "outputs": [],
   "source": [
    "lista_s1 = [34,32,56] "
   ]
  },
  {
   "cell_type": "code",
   "execution_count": 34,
   "id": "1cdee235-2f91-461a-aa8d-6892aa1d7267",
   "metadata": {},
   "outputs": [
    {
     "data": {
      "text/plain": [
       "[34, 32, 56]"
      ]
     },
     "execution_count": 34,
     "metadata": {},
     "output_type": "execute_result"
    }
   ],
   "source": [
    "lista_s1"
   ]
  },
  {
   "cell_type": "code",
   "execution_count": 35,
   "id": "7b9d84c3-7c26-491d-a83c-11449f894eb8",
   "metadata": {},
   "outputs": [],
   "source": [
    "lista_s2 = [21,90,51]"
   ]
  },
  {
   "cell_type": "code",
   "execution_count": 36,
   "id": "a62e759c-1298-4cac-9c8f-10c2addf7c88",
   "metadata": {},
   "outputs": [
    {
     "data": {
      "text/plain": [
       "[21, 90, 51]"
      ]
     },
     "execution_count": 36,
     "metadata": {},
     "output_type": "execute_result"
    }
   ],
   "source": [
    "lista_s2"
   ]
  },
  {
   "cell_type": "code",
   "execution_count": 37,
   "id": "a61383c7-053d-4466-9293-0f7b885b72a0",
   "metadata": {},
   "outputs": [],
   "source": [
    "#Concatenando listas\n",
    "lista_total = lista_s1 + lista_s2"
   ]
  },
  {
   "cell_type": "code",
   "execution_count": 38,
   "id": "0d4b4aaf-c248-456d-b06f-25852ee8ee01",
   "metadata": {},
   "outputs": [
    {
     "data": {
      "text/plain": [
       "[34, 32, 56, 21, 90, 51]"
      ]
     },
     "execution_count": 38,
     "metadata": {},
     "output_type": "execute_result"
    }
   ],
   "source": [
    "lista_total"
   ]
  },
  {
   "cell_type": "markdown",
   "id": "ac7603d1-f6b2-47b6-92ca-da6452c58f8d",
   "metadata": {},
   "source": [
    "### Operador in"
   ]
  },
  {
   "cell_type": "code",
   "execution_count": 39,
   "id": "ca581a66-ad3d-47f1-bb52-743079630057",
   "metadata": {},
   "outputs": [],
   "source": [
    "# Criando uma lista\n",
    "lista_teste_op = [100,2,-5,3.4]"
   ]
  },
  {
   "cell_type": "code",
   "execution_count": 40,
   "id": "e5905db2-9c62-4146-b7b4-98a18a996af6",
   "metadata": {},
   "outputs": [
    {
     "data": {
      "text/plain": [
       "[100, 2, -5, 3.4]"
      ]
     },
     "execution_count": 40,
     "metadata": {},
     "output_type": "execute_result"
    }
   ],
   "source": [
    "lista_teste_op"
   ]
  },
  {
   "cell_type": "code",
   "execution_count": 41,
   "id": "454a71a5-893f-474e-925b-7c37a7f6ffa1",
   "metadata": {},
   "outputs": [
    {
     "name": "stdout",
     "output_type": "stream",
     "text": [
      "False\n"
     ]
    }
   ],
   "source": [
    "#Verificando se o valor 10 pertence a lista\n",
    "print(10 in lista_teste_op)"
   ]
  },
  {
   "cell_type": "code",
   "execution_count": 42,
   "id": "577d9baf-d7d9-455e-9eed-30bbec3c304f",
   "metadata": {},
   "outputs": [
    {
     "name": "stdout",
     "output_type": "stream",
     "text": [
      "True\n"
     ]
    }
   ],
   "source": [
    "# Verificando se o valor 100 pertence a lista \n",
    "print(100 in lista_teste_op)"
   ]
  },
  {
   "cell_type": "markdown",
   "id": "c6bae296-4b9a-4b42-9537-28f10434e749",
   "metadata": {},
   "source": [
    "### Função Built-in"
   ]
  },
  {
   "cell_type": "code",
   "execution_count": 3,
   "id": "98ebf32b-060e-42d4-b29e-7d3ce1f46566",
   "metadata": {},
   "outputs": [],
   "source": [
    "# Criando um lista\n",
    "lista_numeros = [10,20,50,-3.4]"
   ]
  },
  {
   "cell_type": "code",
   "execution_count": 4,
   "id": "834a99dd-735c-43d5-85ca-9891841d213a",
   "metadata": {},
   "outputs": [
    {
     "data": {
      "text/plain": [
       "[10, 20, 50, -3.4]"
      ]
     },
     "execution_count": 4,
     "metadata": {},
     "output_type": "execute_result"
    }
   ],
   "source": [
    "lista_numeros"
   ]
  },
  {
   "cell_type": "code",
   "execution_count": 5,
   "id": "e23512ab-d6b7-4c0e-8397-9d59455369cd",
   "metadata": {},
   "outputs": [
    {
     "data": {
      "text/plain": [
       "4"
      ]
     },
     "execution_count": 5,
     "metadata": {},
     "output_type": "execute_result"
    }
   ],
   "source": [
    "# Função len() traz o comprimento da lista\n",
    "len(lista_numeros)"
   ]
  },
  {
   "cell_type": "code",
   "execution_count": 6,
   "id": "1b961253-73e4-4617-b3d7-403570a8888f",
   "metadata": {},
   "outputs": [
    {
     "data": {
      "text/plain": [
       "50"
      ]
     },
     "execution_count": 6,
     "metadata": {},
     "output_type": "execute_result"
    }
   ],
   "source": [
    "# FUnção max() retorna o valor maximo da lista\n",
    "max(lista_numeros)"
   ]
  },
  {
   "cell_type": "code",
   "execution_count": 8,
   "id": "22db47fe-63f3-49e7-860d-705634dc99b8",
   "metadata": {},
   "outputs": [
    {
     "data": {
      "text/plain": [
       "-3.4"
      ]
     },
     "execution_count": 8,
     "metadata": {},
     "output_type": "execute_result"
    }
   ],
   "source": [
    "#FUnção min() retorna o valor minimo da lista\n",
    "min(lista_numeros)"
   ]
  },
  {
   "cell_type": "code",
   "execution_count": 9,
   "id": "89ffe982-474f-415f-ac9b-e1197a10139f",
   "metadata": {},
   "outputs": [],
   "source": [
    "# Criando uma lista \n",
    "lista_formacoes_dsa = ['Analista de Dados','Cientista de Dados','Engenheiro de Dados']"
   ]
  },
  {
   "cell_type": "code",
   "execution_count": 10,
   "id": "36ebde6b-026b-4a32-9079-963e32666c58",
   "metadata": {},
   "outputs": [
    {
     "data": {
      "text/plain": [
       "['Analista de Dados', 'Cientista de Dados', 'Engenheiro de Dados']"
      ]
     },
     "execution_count": 10,
     "metadata": {},
     "output_type": "execute_result"
    }
   ],
   "source": [
    "lista_formacoes_dsa"
   ]
  },
  {
   "cell_type": "code",
   "execution_count": 11,
   "id": "3830755b-d7ff-47c5-a3fc-9e875028f301",
   "metadata": {},
   "outputs": [],
   "source": [
    "lista_formacoes_dsa.append('Engenheiro de IA')"
   ]
  },
  {
   "cell_type": "code",
   "execution_count": 12,
   "id": "75ef93e7-ecb4-481c-9376-000d17989ff4",
   "metadata": {},
   "outputs": [
    {
     "data": {
      "text/plain": [
       "['Analista de Dados',\n",
       " 'Cientista de Dados',\n",
       " 'Engenheiro de Dados',\n",
       " 'Engenheiro de IA']"
      ]
     },
     "execution_count": 12,
     "metadata": {},
     "output_type": "execute_result"
    }
   ],
   "source": [
    "lista_formacoes_dsa"
   ]
  },
  {
   "cell_type": "code",
   "execution_count": 13,
   "id": "9b21c8a7-51a0-4a8a-9863-132dce9e084c",
   "metadata": {},
   "outputs": [
    {
     "data": {
      "text/plain": [
       "1"
      ]
     },
     "execution_count": 13,
     "metadata": {},
     "output_type": "execute_result"
    }
   ],
   "source": [
    "lista_formacoes_dsa.count('Engenheiro de IA')"
   ]
  },
  {
   "cell_type": "code",
   "execution_count": 14,
   "id": "8408cff8-dc2d-4eb1-acbd-457fb0df2b17",
   "metadata": {},
   "outputs": [
    {
     "data": {
      "text/plain": [
       "['Analista de Dados',\n",
       " 'Cientista de Dados',\n",
       " 'Engenheiro de Dados',\n",
       " 'Engenheiro de IA']"
      ]
     },
     "execution_count": 14,
     "metadata": {},
     "output_type": "execute_result"
    }
   ],
   "source": [
    "lista_formacoes_dsa"
   ]
  },
  {
   "cell_type": "code",
   "execution_count": 15,
   "id": "e073881b-6eff-4ce5-a249-eac7bdde17fc",
   "metadata": {},
   "outputs": [],
   "source": [
    "# Criando uma lista vazia\n",
    "a = []"
   ]
  },
  {
   "cell_type": "code",
   "execution_count": 17,
   "id": "ae569525-bb24-4cf1-a4b9-0734d772b135",
   "metadata": {},
   "outputs": [
    {
     "name": "stdout",
     "output_type": "stream",
     "text": [
      "[]\n"
     ]
    }
   ],
   "source": [
    "print(a)"
   ]
  },
  {
   "cell_type": "code",
   "execution_count": 18,
   "id": "e0b1a301-c6c3-451b-bca8-21a5cbc3b73e",
   "metadata": {},
   "outputs": [
    {
     "data": {
      "text/plain": [
       "list"
      ]
     },
     "execution_count": 18,
     "metadata": {},
     "output_type": "execute_result"
    }
   ],
   "source": [
    "type(a)"
   ]
  },
  {
   "cell_type": "code",
   "execution_count": 19,
   "id": "72d156b4-9178-4579-b2d1-49de8334fdad",
   "metadata": {},
   "outputs": [],
   "source": [
    "a.append(10)"
   ]
  },
  {
   "cell_type": "code",
   "execution_count": 20,
   "id": "e911b69f-5712-4ff2-b533-c1a60ef83b31",
   "metadata": {},
   "outputs": [
    {
     "data": {
      "text/plain": [
       "[10]"
      ]
     },
     "execution_count": 20,
     "metadata": {},
     "output_type": "execute_result"
    }
   ],
   "source": [
    "a"
   ]
  },
  {
   "cell_type": "code",
   "execution_count": 21,
   "id": "c091c409-b3df-486b-a670-05f9f635ca81",
   "metadata": {},
   "outputs": [],
   "source": [
    "a.append(50)"
   ]
  },
  {
   "cell_type": "code",
   "execution_count": 22,
   "id": "61ba114b-40fa-4ada-ad8d-92ef6f0bcd09",
   "metadata": {},
   "outputs": [
    {
     "data": {
      "text/plain": [
       "[10, 50]"
      ]
     },
     "execution_count": 22,
     "metadata": {},
     "output_type": "execute_result"
    }
   ],
   "source": [
    "a"
   ]
  },
  {
   "cell_type": "code",
   "execution_count": 28,
   "id": "cce20863-25ad-46fc-ad7b-01e41d4fa120",
   "metadata": {},
   "outputs": [],
   "source": [
    "old_list = [1,2,5,10]"
   ]
  },
  {
   "cell_type": "code",
   "execution_count": 31,
   "id": "52300b76-7c30-4dc1-9e2a-c310a4639414",
   "metadata": {},
   "outputs": [],
   "source": [
    "new_list = []"
   ]
  },
  {
   "cell_type": "code",
   "execution_count": 32,
   "id": "3dbd94cc-0c36-4c46-b248-979c2e2ccd7f",
   "metadata": {},
   "outputs": [],
   "source": [
    "# Copiando os itens da old para new\n",
    "for item in old_list:\n",
    "    new_list.append(item)    "
   ]
  },
  {
   "cell_type": "code",
   "execution_count": 33,
   "id": "7e92f758-f491-4e30-b582-82837534e04d",
   "metadata": {},
   "outputs": [
    {
     "data": {
      "text/plain": [
       "[1, 2, 5, 10]"
      ]
     },
     "execution_count": 33,
     "metadata": {},
     "output_type": "execute_result"
    }
   ],
   "source": [
    "new_list"
   ]
  },
  {
   "cell_type": "code",
   "execution_count": 35,
   "id": "0f2c4ce1-4245-42ce-b838-0b11c9ed31f2",
   "metadata": {},
   "outputs": [
    {
     "name": "stdout",
     "output_type": "stream",
     "text": [
      "['Recife', 'Manaus', 'Salvador', 'Fortaleza', 'Palmas']\n"
     ]
    }
   ],
   "source": [
    "cidades = ['Recife','Manaus','Salvador']\n",
    "cidades.extend(['Fortaleza','Palmas'])\n",
    "print(cidades)"
   ]
  },
  {
   "cell_type": "code",
   "execution_count": 36,
   "id": "6bb2b42e-80cb-4859-8767-bdad8c17da16",
   "metadata": {},
   "outputs": [
    {
     "data": {
      "text/plain": [
       "2"
      ]
     },
     "execution_count": 36,
     "metadata": {},
     "output_type": "execute_result"
    }
   ],
   "source": [
    "cidades.index('Salvador')"
   ]
  },
  {
   "cell_type": "code",
   "execution_count": 37,
   "id": "e5760dd7-7410-4007-a746-757c3311bc53",
   "metadata": {},
   "outputs": [
    {
     "data": {
      "text/plain": [
       "['Recife', 'Manaus', 'Salvador', 'Fortaleza', 'Palmas']"
      ]
     },
     "execution_count": 37,
     "metadata": {},
     "output_type": "execute_result"
    }
   ],
   "source": [
    "cidades"
   ]
  },
  {
   "cell_type": "code",
   "execution_count": 38,
   "id": "edebf93c-6541-4ebb-af3d-96daab3a99ad",
   "metadata": {},
   "outputs": [],
   "source": [
    "cidades.insert(2,110)"
   ]
  },
  {
   "cell_type": "code",
   "execution_count": 39,
   "id": "7366ce5f-9aee-4223-8526-38b94509e70f",
   "metadata": {},
   "outputs": [
    {
     "data": {
      "text/plain": [
       "['Recife', 'Manaus', 110, 'Salvador', 'Fortaleza', 'Palmas']"
      ]
     },
     "execution_count": 39,
     "metadata": {},
     "output_type": "execute_result"
    }
   ],
   "source": [
    "cidades"
   ]
  },
  {
   "cell_type": "code",
   "execution_count": 40,
   "id": "0164f235-fb39-4935-9b6b-ca03ac5ada99",
   "metadata": {},
   "outputs": [],
   "source": [
    "# Removendo item da lista\n",
    "cidades.remove(110)"
   ]
  },
  {
   "cell_type": "code",
   "execution_count": 41,
   "id": "640eab10-ac6c-4a8b-9b40-947d2cacf5b2",
   "metadata": {},
   "outputs": [
    {
     "data": {
      "text/plain": [
       "['Recife', 'Manaus', 'Salvador', 'Fortaleza', 'Palmas']"
      ]
     },
     "execution_count": 41,
     "metadata": {},
     "output_type": "execute_result"
    }
   ],
   "source": [
    "cidades"
   ]
  },
  {
   "cell_type": "code",
   "execution_count": 42,
   "id": "d16d1330-4488-40ac-b073-5fbd1e6df841",
   "metadata": {},
   "outputs": [],
   "source": [
    "# Reverter lista\n",
    "cidades.reverse()"
   ]
  },
  {
   "cell_type": "code",
   "execution_count": 43,
   "id": "984898d1-58fa-44da-8b86-68ce95865778",
   "metadata": {},
   "outputs": [
    {
     "data": {
      "text/plain": [
       "['Palmas', 'Fortaleza', 'Salvador', 'Manaus', 'Recife']"
      ]
     },
     "execution_count": 43,
     "metadata": {},
     "output_type": "execute_result"
    }
   ],
   "source": [
    "cidades"
   ]
  },
  {
   "cell_type": "code",
   "execution_count": 45,
   "id": "e9ad246b-9608-4ed4-ac52-aa82decb718c",
   "metadata": {},
   "outputs": [
    {
     "data": {
      "text/plain": [
       "['Palmas', 'Fortaleza', 'Salvador', 'Manaus', 'Recife']"
      ]
     },
     "execution_count": 45,
     "metadata": {},
     "output_type": "execute_result"
    }
   ],
   "source": [
    "# imprimir a lista\n",
    "cidades"
   ]
  },
  {
   "cell_type": "code",
   "execution_count": 46,
   "id": "488643ad-76e3-425e-9d03-79d40d9f1b1d",
   "metadata": {},
   "outputs": [],
   "source": [
    "x = [3,4,2,1]"
   ]
  },
  {
   "cell_type": "code",
   "execution_count": 47,
   "id": "2998a409-0f36-41f7-baf4-0dbe8c481076",
   "metadata": {},
   "outputs": [
    {
     "data": {
      "text/plain": [
       "[3, 4, 2, 1]"
      ]
     },
     "execution_count": 47,
     "metadata": {},
     "output_type": "execute_result"
    }
   ],
   "source": [
    "x"
   ]
  },
  {
   "cell_type": "code",
   "execution_count": 48,
   "id": "2dcc768f-c652-47a2-a007-f0e544b2c6bb",
   "metadata": {},
   "outputs": [],
   "source": [
    "#Ordenar a lista\n",
    "x.sort()"
   ]
  },
  {
   "cell_type": "code",
   "execution_count": 49,
   "id": "e50a4223-f6c6-461d-9701-4dab31a756b5",
   "metadata": {},
   "outputs": [
    {
     "data": {
      "text/plain": [
       "[1, 2, 3, 4]"
      ]
     },
     "execution_count": 49,
     "metadata": {},
     "output_type": "execute_result"
    }
   ],
   "source": [
    "x"
   ]
  },
  {
   "cell_type": "code",
   "execution_count": null,
   "id": "1e84e45f-63c0-4125-8e1f-9b2eedd1e078",
   "metadata": {},
   "outputs": [],
   "source": []
  }
 ],
 "metadata": {
  "kernelspec": {
   "display_name": "Python 3 (ipykernel)",
   "language": "python",
   "name": "python3"
  },
  "language_info": {
   "codemirror_mode": {
    "name": "ipython",
    "version": 3
   },
   "file_extension": ".py",
   "mimetype": "text/x-python",
   "name": "python",
   "nbconvert_exporter": "python",
   "pygments_lexer": "ipython3",
   "version": "3.12.7"
  }
 },
 "nbformat": 4,
 "nbformat_minor": 5
}

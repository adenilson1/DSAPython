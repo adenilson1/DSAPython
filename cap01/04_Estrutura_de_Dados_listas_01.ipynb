{
 "cells": [
  {
   "cell_type": "markdown",
   "id": "07511a09-f247-4380-bcdc-4f8a17696bcd",
   "metadata": {},
   "source": [
    "### Trabalhando com listas"
   ]
  },
  {
   "cell_type": "code",
   "execution_count": 1,
   "id": "5f9f95c9-9835-4814-84ee-7fc6a907a80e",
   "metadata": {},
   "outputs": [],
   "source": [
    "#Criando uma lista\n",
    "lista_1 = [\"arroz,frango,tomate,leite\"]"
   ]
  },
  {
   "cell_type": "code",
   "execution_count": 2,
   "id": "80afe27f-33b0-4bfb-949b-d00bf4dec8d1",
   "metadata": {},
   "outputs": [
    {
     "data": {
      "text/plain": [
       "list"
      ]
     },
     "execution_count": 2,
     "metadata": {},
     "output_type": "execute_result"
    }
   ],
   "source": [
    "type(lista_1)"
   ]
  },
  {
   "cell_type": "code",
   "execution_count": 3,
   "id": "2f7cc131-49be-47ee-9f3f-c64b30c0e0fd",
   "metadata": {},
   "outputs": [
    {
     "name": "stdout",
     "output_type": "stream",
     "text": [
      "['arroz,frango,tomate,leite']\n"
     ]
    }
   ],
   "source": [
    "#imprimindo lista\n",
    "print(lista_1)"
   ]
  },
  {
   "cell_type": "code",
   "execution_count": 4,
   "id": "adde9fdc-bc1f-4938-bf62-a7290615ee45",
   "metadata": {},
   "outputs": [],
   "source": [
    "#Criando uma outra lista\n",
    "lista_2 = [\"arroz\",\"frango\",\"tomate\",\"leite\"]"
   ]
  },
  {
   "cell_type": "code",
   "execution_count": 5,
   "id": "f6c16863-67e5-4366-9dde-5da0759c8584",
   "metadata": {},
   "outputs": [
    {
     "data": {
      "text/plain": [
       "list"
      ]
     },
     "execution_count": 5,
     "metadata": {},
     "output_type": "execute_result"
    }
   ],
   "source": [
    "type(lista_2)"
   ]
  },
  {
   "cell_type": "code",
   "execution_count": 6,
   "id": "6dcbdc2b-784b-4e43-9400-20e5416f591e",
   "metadata": {},
   "outputs": [
    {
     "name": "stdout",
     "output_type": "stream",
     "text": [
      "['arroz', 'frango', 'tomate', 'leite']\n"
     ]
    }
   ],
   "source": [
    "#Imprimindo lista 2\n",
    "print(lista_2)"
   ]
  },
  {
   "cell_type": "code",
   "execution_count": 7,
   "id": "d5d43087-c9ca-4b01-97bb-051bf040ea59",
   "metadata": {},
   "outputs": [],
   "source": [
    "# Criando a lista\n",
    "lista_3 = [23,100,\"Cientista de Dados\"]"
   ]
  },
  {
   "cell_type": "code",
   "execution_count": 8,
   "id": "18079a5c-5e83-4726-bf9b-6f7332311eee",
   "metadata": {},
   "outputs": [
    {
     "name": "stdout",
     "output_type": "stream",
     "text": [
      "[23, 100, 'Cientista de Dados']\n"
     ]
    }
   ],
   "source": [
    "print(lista_3)"
   ]
  },
  {
   "cell_type": "code",
   "execution_count": 11,
   "id": "ae23e5fc-391b-471a-9de3-d2ba24f6bf37",
   "metadata": {},
   "outputs": [],
   "source": [
    "#Atribuindo cada valor a lista a uma variavel\n",
    "item1 = lista_3[0]\n",
    "item2 = lista_3[1]\n",
    "item3 = lista_3[2]"
   ]
  },
  {
   "cell_type": "code",
   "execution_count": 12,
   "id": "980eb8b8-5809-4626-bb5d-146e8bd1b42d",
   "metadata": {},
   "outputs": [
    {
     "name": "stdout",
     "output_type": "stream",
     "text": [
      "23 100 Cientista de Dados\n"
     ]
    }
   ],
   "source": [
    "#imprindo \n",
    "print(item1,item2,item3)"
   ]
  },
  {
   "cell_type": "markdown",
   "id": "3b0c85eb-eee0-41e2-a4c4-62d161fb3039",
   "metadata": {},
   "source": [
    "### Atualizando uma lista"
   ]
  },
  {
   "cell_type": "code",
   "execution_count": 13,
   "id": "d327eb31-1486-472f-b902-d4327eb2b83c",
   "metadata": {},
   "outputs": [
    {
     "data": {
      "text/plain": [
       "['arroz', 'frango', 'tomate', 'leite']"
      ]
     },
     "execution_count": 13,
     "metadata": {},
     "output_type": "execute_result"
    }
   ],
   "source": [
    "lista_2"
   ]
  },
  {
   "cell_type": "code",
   "execution_count": 14,
   "id": "c38058b0-3256-441b-8d23-9ddcce57eb33",
   "metadata": {},
   "outputs": [],
   "source": [
    "#Atulizando um item da lista\n",
    "lista_2[2] = \"chocolate\""
   ]
  },
  {
   "cell_type": "code",
   "execution_count": 15,
   "id": "f5ad34e8-e485-40b7-b669-1925d79fa7bb",
   "metadata": {},
   "outputs": [
    {
     "data": {
      "text/plain": [
       "['arroz', 'frango', 'chocolate', 'leite']"
      ]
     },
     "execution_count": 15,
     "metadata": {},
     "output_type": "execute_result"
    }
   ],
   "source": [
    "#imprimindo\n",
    "lista_2"
   ]
  },
  {
   "cell_type": "markdown",
   "id": "a9d40d02-c0eb-42e9-a3dc-1648ce3a0c26",
   "metadata": {},
   "source": [
    "### Deletando um item da lista"
   ]
  },
  {
   "cell_type": "code",
   "execution_count": 19,
   "id": "cb982c95-f0be-414e-93ac-c57c924f36d8",
   "metadata": {},
   "outputs": [
    {
     "ename": "IndexError",
     "evalue": "list assignment index out of range",
     "output_type": "error",
     "traceback": [
      "\u001b[0;31m---------------------------------------------------------------------------\u001b[0m",
      "\u001b[0;31mIndexError\u001b[0m                                Traceback (most recent call last)",
      "Cell \u001b[0;32mIn[19], line 2\u001b[0m\n\u001b[1;32m      1\u001b[0m \u001b[38;5;66;03m# Não é possível deletar um item que não existe na lista\u001b[39;00m\n\u001b[0;32m----> 2\u001b[0m \u001b[38;5;28;01mdel\u001b[39;00m lista_2[\u001b[38;5;241m4\u001b[39m]\n",
      "\u001b[0;31mIndexError\u001b[0m: list assignment index out of range"
     ]
    }
   ],
   "source": [
    "# Não é possível deletar um item que não existe na lista\n",
    "del lista_2[4]"
   ]
  },
  {
   "cell_type": "code",
   "execution_count": 20,
   "id": "a743e874-b630-40ae-82c0-2da95f852ae9",
   "metadata": {},
   "outputs": [],
   "source": [
    "del lista_2[3]"
   ]
  },
  {
   "cell_type": "code",
   "execution_count": 22,
   "id": "65bc1870-006a-4d41-aee2-e4624acb20b4",
   "metadata": {},
   "outputs": [
    {
     "data": {
      "text/plain": [
       "['arroz', 'frango', 'chocolate']"
      ]
     },
     "execution_count": 22,
     "metadata": {},
     "output_type": "execute_result"
    }
   ],
   "source": [
    "lista_2"
   ]
  },
  {
   "cell_type": "markdown",
   "id": "8a42f356-145f-49e6-831a-5e8e49f27740",
   "metadata": {},
   "source": [
    "#### Lista de Listas (Listas Aninhadas)"
   ]
  },
  {
   "cell_type": "code",
   "execution_count": null,
   "id": "0634f4b6-c660-407d-8279-f43e078a15a8",
   "metadata": {},
   "outputs": [],
   "source": []
  }
 ],
 "metadata": {
  "kernelspec": {
   "display_name": "Python 3 (ipykernel)",
   "language": "python",
   "name": "python3"
  },
  "language_info": {
   "codemirror_mode": {
    "name": "ipython",
    "version": 3
   },
   "file_extension": ".py",
   "mimetype": "text/x-python",
   "name": "python",
   "nbconvert_exporter": "python",
   "pygments_lexer": "ipython3",
   "version": "3.12.7"
  }
 },
 "nbformat": 4,
 "nbformat_minor": 5
}

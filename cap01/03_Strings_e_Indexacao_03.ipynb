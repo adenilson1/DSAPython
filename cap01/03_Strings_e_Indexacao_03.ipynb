{
 "cells": [
  {
   "cell_type": "markdown",
   "id": "c75d90d1-d087-42ad-aa06-5407015e621c",
   "metadata": {},
   "source": [
    "## Funções Built-in de Strings"
   ]
  },
  {
   "cell_type": "code",
   "execution_count": 1,
   "id": "84d4525d-b1a6-40c9-82b0-32d23de197ca",
   "metadata": {},
   "outputs": [],
   "source": [
    "s = 'Data Science Academy' "
   ]
  },
  {
   "cell_type": "code",
   "execution_count": 2,
   "id": "91032e4d-b797-40a0-8821-a211de25cf0d",
   "metadata": {},
   "outputs": [
    {
     "data": {
      "text/plain": [
       "'DATA SCIENCE ACADEMY'"
      ]
     },
     "execution_count": 2,
     "metadata": {},
     "output_type": "execute_result"
    }
   ],
   "source": [
    "# Upper Case\n",
    "s.upper()"
   ]
  },
  {
   "cell_type": "code",
   "execution_count": 3,
   "id": "c943d40d-59ba-4fd2-8951-d89e3b9837e9",
   "metadata": {},
   "outputs": [
    {
     "data": {
      "text/plain": [
       "'data science academy'"
      ]
     },
     "execution_count": 3,
     "metadata": {},
     "output_type": "execute_result"
    }
   ],
   "source": [
    "# Lower Case\n",
    "s.lower()"
   ]
  },
  {
   "cell_type": "code",
   "execution_count": 4,
   "id": "81a2487a-4d52-4aa1-a6b4-7cd9e6aa3719",
   "metadata": {},
   "outputs": [
    {
     "data": {
      "text/plain": [
       "['Data', 'Science', 'Academy']"
      ]
     },
     "execution_count": 4,
     "metadata": {},
     "output_type": "execute_result"
    }
   ],
   "source": [
    "# Dividir uma string por espaços em branco(padrão)\n",
    "s.split()"
   ]
  },
  {
   "cell_type": "code",
   "execution_count": 5,
   "id": "a21d0913-867a-409b-b1e6-b2d870308d3e",
   "metadata": {},
   "outputs": [
    {
     "data": {
      "text/plain": [
       "['Data Science Academ', '']"
      ]
     },
     "execution_count": 5,
     "metadata": {},
     "output_type": "execute_result"
    }
   ],
   "source": [
    "# Dividir uma string por elemento especifico\n",
    "s.split('y')"
   ]
  },
  {
   "cell_type": "markdown",
   "id": "181b57be-e1ee-4c20-816d-e17277972544",
   "metadata": {},
   "source": [
    "## Funções String"
   ]
  },
  {
   "cell_type": "code",
   "execution_count": 6,
   "id": "3574f89e-3ee8-48e5-b9c8-e0951025afa2",
   "metadata": {},
   "outputs": [],
   "source": [
    "s = 'Seja bem vindo ao universo da Linguagem Python'"
   ]
  },
  {
   "cell_type": "code",
   "execution_count": 7,
   "id": "256b0255-9f1a-4332-8f6e-452c9b17805d",
   "metadata": {},
   "outputs": [
    {
     "data": {
      "text/plain": [
       "'Seja bem vindo ao universo da linguagem python'"
      ]
     },
     "execution_count": 7,
     "metadata": {},
     "output_type": "execute_result"
    }
   ],
   "source": [
    "s.capitalize()"
   ]
  },
  {
   "cell_type": "code",
   "execution_count": 9,
   "id": "a378b0bc-67cd-4f30-aa3a-6bdc5a399e85",
   "metadata": {},
   "outputs": [
    {
     "data": {
      "text/plain": [
       "4"
      ]
     },
     "execution_count": 9,
     "metadata": {},
     "output_type": "execute_result"
    }
   ],
   "source": [
    "s.count('a')"
   ]
  },
  {
   "cell_type": "code",
   "execution_count": 10,
   "id": "54027c68-0bad-4de4-84ff-de2a505dc906",
   "metadata": {},
   "outputs": [
    {
     "data": {
      "text/plain": [
       "False"
      ]
     },
     "execution_count": 10,
     "metadata": {},
     "output_type": "execute_result"
    }
   ],
   "source": [
    "s.isalnum()"
   ]
  },
  {
   "cell_type": "code",
   "execution_count": 11,
   "id": "11f1910c-d773-40e3-b969-89e63d39330e",
   "metadata": {},
   "outputs": [
    {
     "data": {
      "text/plain": [
       "False"
      ]
     },
     "execution_count": 11,
     "metadata": {},
     "output_type": "execute_result"
    }
   ],
   "source": [
    "s.islower()"
   ]
  },
  {
   "cell_type": "code",
   "execution_count": 12,
   "id": "68385a05-4906-4b7c-b9b6-86b8bf1f34fe",
   "metadata": {},
   "outputs": [
    {
     "data": {
      "text/plain": [
       "False"
      ]
     },
     "execution_count": 12,
     "metadata": {},
     "output_type": "execute_result"
    }
   ],
   "source": [
    "s.isspace()"
   ]
  },
  {
   "cell_type": "code",
   "execution_count": 14,
   "id": "61beeaef-c68b-4528-93c8-fa32481487df",
   "metadata": {},
   "outputs": [
    {
     "data": {
      "text/plain": [
       "False"
      ]
     },
     "execution_count": 14,
     "metadata": {},
     "output_type": "execute_result"
    }
   ],
   "source": [
    "s.endswith('o')"
   ]
  },
  {
   "cell_type": "markdown",
   "id": "d0293bd8-8526-4ed6-9c76-176ea732c1b5",
   "metadata": {},
   "source": [
    "### Comparando Strings"
   ]
  },
  {
   "cell_type": "code",
   "execution_count": 15,
   "id": "8c2c1834-d42d-458e-a659-c2a36725a5f1",
   "metadata": {},
   "outputs": [
    {
     "name": "stdout",
     "output_type": "stream",
     "text": [
      "False\n"
     ]
    }
   ],
   "source": [
    "print(\"Pyhton\" == \"R\")"
   ]
  },
  {
   "cell_type": "code",
   "execution_count": 16,
   "id": "6b4ce4c9-fd72-4d29-b3ca-62f690402faa",
   "metadata": {},
   "outputs": [
    {
     "name": "stdout",
     "output_type": "stream",
     "text": [
      "True\n"
     ]
    }
   ],
   "source": [
    "print(\"Python\" == \"Python\")"
   ]
  },
  {
   "cell_type": "code",
   "execution_count": null,
   "id": "1c841ce3-f653-4bb1-acb0-370c6141b881",
   "metadata": {},
   "outputs": [],
   "source": []
  }
 ],
 "metadata": {
  "kernelspec": {
   "display_name": "Python 3 (ipykernel)",
   "language": "python",
   "name": "python3"
  },
  "language_info": {
   "codemirror_mode": {
    "name": "ipython",
    "version": 3
   },
   "file_extension": ".py",
   "mimetype": "text/x-python",
   "name": "python",
   "nbconvert_exporter": "python",
   "pygments_lexer": "ipython3",
   "version": "3.12.7"
  }
 },
 "nbformat": 4,
 "nbformat_minor": 5
}

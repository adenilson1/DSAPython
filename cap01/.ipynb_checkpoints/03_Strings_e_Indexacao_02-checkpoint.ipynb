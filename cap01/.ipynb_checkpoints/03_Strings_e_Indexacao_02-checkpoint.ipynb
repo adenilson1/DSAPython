{
 "cells": [
  {
   "cell_type": "code",
   "execution_count": 1,
   "id": "6fb59b4e-9d72-4783-8dc3-5b1940f8c14d",
   "metadata": {},
   "outputs": [],
   "source": [
    "# Retornar todos os elementos da string, começando pela posição\n",
    "# late o fim da string\n",
    "s = 'Data science Academy'"
   ]
  },
  {
   "cell_type": "code",
   "execution_count": 2,
   "id": "0308ab27-e021-41e1-951a-a82ff6096464",
   "metadata": {},
   "outputs": [
    {
     "data": {
      "text/plain": [
       "'Data science Academy'"
      ]
     },
     "execution_count": 2,
     "metadata": {},
     "output_type": "execute_result"
    }
   ],
   "source": [
    "# string original\n",
    "s"
   ]
  },
  {
   "cell_type": "code",
   "execution_count": 3,
   "id": "1352699b-413d-494e-bc1b-051c5ff12c62",
   "metadata": {},
   "outputs": [],
   "source": [
    "# Retorna tudo até a posição 3"
   ]
  },
  {
   "cell_type": "code",
   "execution_count": 4,
   "id": "518a0dfa-85ac-4e33-84f8-d0533a6f01f5",
   "metadata": {},
   "outputs": [
    {
     "data": {
      "text/plain": [
       "'Dat'"
      ]
     },
     "execution_count": 4,
     "metadata": {},
     "output_type": "execute_result"
    }
   ],
   "source": [
    "s[:3]"
   ]
  },
  {
   "cell_type": "code",
   "execution_count": 6,
   "id": "1c9b7316-756e-4af5-b7e3-d773b482343e",
   "metadata": {},
   "outputs": [
    {
     "data": {
      "text/plain": [
       "'y'"
      ]
     },
     "execution_count": 6,
     "metadata": {},
     "output_type": "execute_result"
    }
   ],
   "source": [
    "# Pode ser de trás para frente\n",
    "s[-1]"
   ]
  },
  {
   "cell_type": "code",
   "execution_count": 7,
   "id": "635fe13a-710c-4904-b13a-bd63aa963f3b",
   "metadata": {},
   "outputs": [
    {
     "data": {
      "text/plain": [
       "'Data science Academ'"
      ]
     },
     "execution_count": 7,
     "metadata": {},
     "output_type": "execute_result"
    }
   ],
   "source": [
    "# tudo de trás para frente\n",
    "s[:-1]"
   ]
  },
  {
   "cell_type": "code",
   "execution_count": 9,
   "id": "fa6d9efc-33a8-46fb-b504-e50187bb3868",
   "metadata": {},
   "outputs": [
    {
     "data": {
      "text/plain": [
       "'Data science Academy'"
      ]
     },
     "execution_count": 9,
     "metadata": {},
     "output_type": "execute_result"
    }
   ],
   "source": [
    "# Pode usar notação de indice e fatiar a string em pedaços especificos\n",
    "s[::1]"
   ]
  },
  {
   "cell_type": "code",
   "execution_count": 10,
   "id": "7ddcf367-108e-4383-b3b3-bd1baf831088",
   "metadata": {},
   "outputs": [
    {
     "data": {
      "text/plain": [
       "'Dt cec cdm'"
      ]
     },
     "execution_count": 10,
     "metadata": {},
     "output_type": "execute_result"
    }
   ],
   "source": [
    "s[::2]"
   ]
  },
  {
   "cell_type": "code",
   "execution_count": 11,
   "id": "24d2403a-5011-4c48-a731-9cb9b24d6029",
   "metadata": {},
   "outputs": [
    {
     "data": {
      "text/plain": [
       "'ymedacA ecneics ataD'"
      ]
     },
     "execution_count": 11,
     "metadata": {},
     "output_type": "execute_result"
    }
   ],
   "source": [
    "s[::-1]"
   ]
  },
  {
   "cell_type": "markdown",
   "id": "93602b47-e1bf-4034-8a26-688d498c6437",
   "metadata": {},
   "source": [
    "## Propriedades de String"
   ]
  },
  {
   "cell_type": "code",
   "execution_count": 12,
   "id": "79eb9a0f-68cd-4885-a459-f72e11a0aa9d",
   "metadata": {},
   "outputs": [
    {
     "data": {
      "text/plain": [
       "'Data science Academy'"
      ]
     },
     "execution_count": 12,
     "metadata": {},
     "output_type": "execute_result"
    }
   ],
   "source": [
    "s"
   ]
  },
  {
   "cell_type": "code",
   "execution_count": 13,
   "id": "d9132a29-451c-487c-9955-93f90808f62e",
   "metadata": {},
   "outputs": [],
   "source": [
    "# Alterando um caracter (não é possível alterar um elemento da string)"
   ]
  },
  {
   "cell_type": "code",
   "execution_count": 14,
   "id": "0fda6356-e23c-43a8-9880-02efcf8c56a5",
   "metadata": {},
   "outputs": [
    {
     "ename": "TypeError",
     "evalue": "'str' object does not support item assignment",
     "output_type": "error",
     "traceback": [
      "\u001b[0;31m---------------------------------------------------------------------------\u001b[0m",
      "\u001b[0;31mTypeError\u001b[0m                                 Traceback (most recent call last)",
      "Cell \u001b[0;32mIn[14], line 1\u001b[0m\n\u001b[0;32m----> 1\u001b[0m s[\u001b[38;5;241m0\u001b[39m] \u001b[38;5;241m=\u001b[39m \u001b[38;5;124m'\u001b[39m\u001b[38;5;124mx\u001b[39m\u001b[38;5;124m'\u001b[39m\n",
      "\u001b[0;31mTypeError\u001b[0m: 'str' object does not support item assignment"
     ]
    }
   ],
   "source": [
    "s[0] = 'x'"
   ]
  },
  {
   "cell_type": "code",
   "execution_count": 15,
   "id": "b014b045-86ef-4acd-95be-2bcb5b34e5d3",
   "metadata": {},
   "outputs": [],
   "source": [
    "# Concatenando strings"
   ]
  },
  {
   "cell_type": "code",
   "execution_count": 18,
   "id": "e43511e5-0499-4096-b7cd-fdaad8e437c4",
   "metadata": {},
   "outputs": [],
   "source": [
    "s =  s + 'é um bom curso de big data'"
   ]
  },
  {
   "cell_type": "code",
   "execution_count": 19,
   "id": "f9d9b211-1b1b-43d7-b334-24fa605c56fc",
   "metadata": {},
   "outputs": [
    {
     "name": "stdout",
     "output_type": "stream",
     "text": [
      "Data science Academyé um bom curso de big data\n"
     ]
    }
   ],
   "source": [
    "print(s)"
   ]
  },
  {
   "cell_type": "code",
   "execution_count": 20,
   "id": "053b785c-36dc-42e5-8dc7-1e4341cb7819",
   "metadata": {},
   "outputs": [],
   "source": [
    "# Pode-se usar simbolos de multiplicação para criar repetição\n",
    "letra = 'w'"
   ]
  },
  {
   "cell_type": "code",
   "execution_count": 22,
   "id": "92096ce2-b9cb-4cae-9a36-b3a32d099fad",
   "metadata": {},
   "outputs": [
    {
     "data": {
      "text/plain": [
       "'www'"
      ]
     },
     "execution_count": 22,
     "metadata": {},
     "output_type": "execute_result"
    }
   ],
   "source": [
    "letra * 3"
   ]
  }
 ],
 "metadata": {
  "kernelspec": {
   "display_name": "Python 3 (ipykernel)",
   "language": "python",
   "name": "python3"
  },
  "language_info": {
   "codemirror_mode": {
    "name": "ipython",
    "version": 3
   },
   "file_extension": ".py",
   "mimetype": "text/x-python",
   "name": "python",
   "nbconvert_exporter": "python",
   "pygments_lexer": "ipython3",
   "version": "3.12.7"
  }
 },
 "nbformat": 4,
 "nbformat_minor": 5
}

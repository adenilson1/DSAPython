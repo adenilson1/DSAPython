{
 "cells": [
  {
   "cell_type": "markdown",
   "id": "fd2e051c-d5ad-4e85-8b99-a65b569085f9",
   "metadata": {},
   "source": [
    "## Variáveis Atribuídas a Outras Variáveis e Ordem dos Operadores"
   ]
  },
  {
   "cell_type": "code",
   "execution_count": 1,
   "id": "27f4d3e8-2a4b-493e-9200-aa1f661c6654",
   "metadata": {},
   "outputs": [],
   "source": [
    "largura = 2"
   ]
  },
  {
   "cell_type": "code",
   "execution_count": 2,
   "id": "fd06d670-dcd2-42ad-9d3e-cb74f995422e",
   "metadata": {},
   "outputs": [],
   "source": [
    "altura = 4"
   ]
  },
  {
   "cell_type": "code",
   "execution_count": 3,
   "id": "63235386-63c0-4450-83da-9a31367109eb",
   "metadata": {},
   "outputs": [],
   "source": [
    "area = largura * altura"
   ]
  },
  {
   "cell_type": "code",
   "execution_count": 4,
   "id": "a50f0a3c-7d54-4e61-b05a-db05e6f04eaa",
   "metadata": {},
   "outputs": [
    {
     "data": {
      "text/plain": [
       "8"
      ]
     },
     "execution_count": 4,
     "metadata": {},
     "output_type": "execute_result"
    }
   ],
   "source": [
    "area"
   ]
  },
  {
   "cell_type": "code",
   "execution_count": 5,
   "id": "7f5d24ac-93d5-4f04-8ec8-298508c70f80",
   "metadata": {},
   "outputs": [],
   "source": [
    "perimetro = 2 * largura + 2 * altura"
   ]
  },
  {
   "cell_type": "code",
   "execution_count": 6,
   "id": "c5f2df68-06f6-4f6d-a608-b3e999bcf0fb",
   "metadata": {},
   "outputs": [
    {
     "data": {
      "text/plain": [
       "12"
      ]
     },
     "execution_count": 6,
     "metadata": {},
     "output_type": "execute_result"
    }
   ],
   "source": [
    "perimetro"
   ]
  },
  {
   "cell_type": "code",
   "execution_count": 7,
   "id": "53669a34-b483-419c-8d7a-cd3639c777b1",
   "metadata": {},
   "outputs": [],
   "source": [
    "# A ordem dos operadores é a mesma seguida na Matemática\n",
    "perimentro = 2 * (largura + 2) * altura "
   ]
  },
  {
   "cell_type": "code",
   "execution_count": 8,
   "id": "0db63bd4-11bb-42b6-b17d-33184a66e5ae",
   "metadata": {},
   "outputs": [
    {
     "data": {
      "text/plain": [
       "12"
      ]
     },
     "execution_count": 8,
     "metadata": {},
     "output_type": "execute_result"
    }
   ],
   "source": [
    "perimetro"
   ]
  },
  {
   "cell_type": "markdown",
   "id": "8d6c3060-0273-438b-ab38-0c2f07d736c1",
   "metadata": {},
   "source": [
    "## Operaçẽos com Varáveis"
   ]
  },
  {
   "cell_type": "code",
   "execution_count": 14,
   "id": "1870b711-576a-4198-be2f-ef9387961b58",
   "metadata": {},
   "outputs": [],
   "source": [
    "idade1 = 25"
   ]
  },
  {
   "cell_type": "code",
   "execution_count": 15,
   "id": "3378dc3e-68ca-4643-a568-bfc93aad5698",
   "metadata": {},
   "outputs": [],
   "source": [
    "idade2 = 35"
   ]
  },
  {
   "cell_type": "code",
   "execution_count": 16,
   "id": "4fabdfce-cacb-4bdc-9e28-61409a48c6d4",
   "metadata": {},
   "outputs": [
    {
     "data": {
      "text/plain": [
       "60"
      ]
     },
     "execution_count": 16,
     "metadata": {},
     "output_type": "execute_result"
    }
   ],
   "source": [
    "idade1 + idade2"
   ]
  },
  {
   "cell_type": "code",
   "execution_count": 17,
   "id": "f8e73095-5a10-465e-ab58-cf9a605ab48f",
   "metadata": {},
   "outputs": [
    {
     "data": {
      "text/plain": [
       "10"
      ]
     },
     "execution_count": 17,
     "metadata": {},
     "output_type": "execute_result"
    }
   ],
   "source": [
    "idade2 - idade1"
   ]
  },
  {
   "cell_type": "code",
   "execution_count": 18,
   "id": "73eb6d53-3a6d-46a9-b305-e8022f59e0ee",
   "metadata": {},
   "outputs": [
    {
     "data": {
      "text/plain": [
       "875"
      ]
     },
     "execution_count": 18,
     "metadata": {},
     "output_type": "execute_result"
    }
   ],
   "source": [
    "idade2 * idade1"
   ]
  },
  {
   "cell_type": "code",
   "execution_count": 19,
   "id": "013016d0-6e1f-4298-8e58-718fbddc411c",
   "metadata": {},
   "outputs": [
    {
     "data": {
      "text/plain": [
       "1.4"
      ]
     },
     "execution_count": 19,
     "metadata": {},
     "output_type": "execute_result"
    }
   ],
   "source": [
    "idade2 / idade1"
   ]
  },
  {
   "cell_type": "code",
   "execution_count": 20,
   "id": "6a64e361-e85d-4c1f-96df-45a92b412ea3",
   "metadata": {},
   "outputs": [
    {
     "data": {
      "text/plain": [
       "10"
      ]
     },
     "execution_count": 20,
     "metadata": {},
     "output_type": "execute_result"
    }
   ],
   "source": [
    "idade2 % idade1"
   ]
  },
  {
   "cell_type": "markdown",
   "id": "e5ac2fcb-0d75-40a1-a54a-6b092a82c446",
   "metadata": {},
   "source": [
    "## Concatenação de Variáveis"
   ]
  },
  {
   "cell_type": "code",
   "execution_count": 21,
   "id": "5cbbe51f-1251-4e4b-b292-bb15c38ce228",
   "metadata": {},
   "outputs": [],
   "source": [
    "nome = \"Bob\""
   ]
  },
  {
   "cell_type": "code",
   "execution_count": 22,
   "id": "0919b477-7972-4b82-8f3b-f9c5f5cc66f1",
   "metadata": {},
   "outputs": [],
   "source": [
    "sobrenome = \"Marley\""
   ]
  },
  {
   "cell_type": "code",
   "execution_count": 24,
   "id": "6d88f535-2283-49ef-b2ac-ae4c166ec2b3",
   "metadata": {},
   "outputs": [],
   "source": [
    "fullNome = nome + \" \" + sobrenome"
   ]
  },
  {
   "cell_type": "code",
   "execution_count": 25,
   "id": "13c521e0-5c13-4622-b847-540edeb02c0d",
   "metadata": {},
   "outputs": [
    {
     "data": {
      "text/plain": [
       "'Bob Marley'"
      ]
     },
     "execution_count": 25,
     "metadata": {},
     "output_type": "execute_result"
    }
   ],
   "source": [
    "fullNome"
   ]
  },
  {
   "cell_type": "code",
   "execution_count": null,
   "id": "a23a5b6b-6a5e-4f3e-a580-1c9d645513cd",
   "metadata": {},
   "outputs": [],
   "source": []
  }
 ],
 "metadata": {
  "kernelspec": {
   "display_name": "Python 3 (ipykernel)",
   "language": "python",
   "name": "python3"
  },
  "language_info": {
   "codemirror_mode": {
    "name": "ipython",
    "version": 3
   },
   "file_extension": ".py",
   "mimetype": "text/x-python",
   "name": "python",
   "nbconvert_exporter": "python",
   "pygments_lexer": "ipython3",
   "version": "3.12.7"
  }
 },
 "nbformat": 4,
 "nbformat_minor": 5
}

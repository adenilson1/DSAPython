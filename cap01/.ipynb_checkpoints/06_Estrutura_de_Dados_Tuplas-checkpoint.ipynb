{
 "cells": [
  {
   "cell_type": "markdown",
   "id": "b536f734-75cd-4dbc-a306-cbd37b1943a6",
   "metadata": {},
   "source": [
    "### Trabalhando com Tuplas"
   ]
  },
  {
   "cell_type": "code",
   "execution_count": 1,
   "id": "983b2ae9-9b6a-4b8b-a0b1-e36805b4bb9a",
   "metadata": {},
   "outputs": [],
   "source": [
    "# Criando uma tupla -> parenteses () -> imutavel\n",
    "tupla1 = (\"Geografia\",23,\"Elefante\",9.8,'Pyhton')"
   ]
  },
  {
   "cell_type": "code",
   "execution_count": 2,
   "id": "2ff88514-38ec-4531-94ee-186702072b01",
   "metadata": {},
   "outputs": [
    {
     "data": {
      "text/plain": [
       "('Geografia', 23, 'Elefante', 9.8, 'Pyhton')"
      ]
     },
     "execution_count": 2,
     "metadata": {},
     "output_type": "execute_result"
    }
   ],
   "source": [
    "#Imprimindo a tupla\n",
    "tupla1"
   ]
  },
  {
   "cell_type": "code",
   "execution_count": 3,
   "id": "28e9635b-61ef-4aa6-adb6-3537216f769e",
   "metadata": {},
   "outputs": [
    {
     "ename": "AttributeError",
     "evalue": "'tuple' object has no attribute 'append'",
     "output_type": "error",
     "traceback": [
      "\u001b[0;31m---------------------------------------------------------------------------\u001b[0m",
      "\u001b[0;31mAttributeError\u001b[0m                            Traceback (most recent call last)",
      "Cell \u001b[0;32mIn[3], line 2\u001b[0m\n\u001b[1;32m      1\u001b[0m \u001b[38;5;66;03m# A tupla nao suporta append()\u001b[39;00m\n\u001b[0;32m----> 2\u001b[0m tupla1\u001b[38;5;241m.\u001b[39mappend(\u001b[38;5;124m\"\u001b[39m\u001b[38;5;124mChocolate\u001b[39m\u001b[38;5;124m\"\u001b[39m)\n",
      "\u001b[0;31mAttributeError\u001b[0m: 'tuple' object has no attribute 'append'"
     ]
    }
   ],
   "source": [
    "# A tupla nao suporta append()\n",
    "tupla1.append(\"Chocolate\")"
   ]
  },
  {
   "cell_type": "code",
   "execution_count": 4,
   "id": "9cab2d28-b39d-4398-97b1-77a4ae8efd43",
   "metadata": {},
   "outputs": [
    {
     "ename": "SyntaxError",
     "evalue": "cannot delete function call (3594072559.py, line 2)",
     "output_type": "error",
     "traceback": [
      "\u001b[0;36m  Cell \u001b[0;32mIn[4], line 2\u001b[0;36m\u001b[0m\n\u001b[0;31m    del tupla1(\"Elefante\")\u001b[0m\n\u001b[0m        ^\u001b[0m\n\u001b[0;31mSyntaxError\u001b[0m\u001b[0;31m:\u001b[0m cannot delete function call\n"
     ]
    }
   ],
   "source": [
    "# tupla não suporta deletede um item especifico \n",
    "del tupla1(\"Elefante\")"
   ]
  },
  {
   "cell_type": "code",
   "execution_count": 5,
   "id": "5243a60e-1bbc-435e-866d-f38dcab959e0",
   "metadata": {},
   "outputs": [],
   "source": [
    "# nota: se deseja mudar um conjunto, usa-se lista ou dicionario. caso contrario, não deseja modficar, usa tupla"
   ]
  },
  {
   "cell_type": "code",
   "execution_count": 6,
   "id": "3eb330b7-0479-492b-892c-a3b80eccc0a2",
   "metadata": {},
   "outputs": [
    {
     "data": {
      "text/plain": [
       "('Geografia', 23, 'Elefante', 9.8, 'Pyhton')"
      ]
     },
     "execution_count": 6,
     "metadata": {},
     "output_type": "execute_result"
    }
   ],
   "source": [
    "tupla1"
   ]
  },
  {
   "cell_type": "code",
   "execution_count": 7,
   "id": "a49d5116-37f4-4b25-b699-c0fe3b260661",
   "metadata": {},
   "outputs": [
    {
     "ename": "TypeError",
     "evalue": "'tuple' object does not support item assignment",
     "output_type": "error",
     "traceback": [
      "\u001b[0;31m---------------------------------------------------------------------------\u001b[0m",
      "\u001b[0;31mTypeError\u001b[0m                                 Traceback (most recent call last)",
      "Cell \u001b[0;32mIn[7], line 2\u001b[0m\n\u001b[1;32m      1\u001b[0m \u001b[38;5;66;03m# tupla não aceita atribuição de item\u001b[39;00m\n\u001b[0;32m----> 2\u001b[0m tupla1[\u001b[38;5;241m1\u001b[39m] \u001b[38;5;241m=\u001b[39m \u001b[38;5;241m21\u001b[39m\n",
      "\u001b[0;31mTypeError\u001b[0m: 'tuple' object does not support item assignment"
     ]
    }
   ],
   "source": [
    "# tupla não aceita atribuição de item\n",
    "tupla1[1] = 21"
   ]
  },
  {
   "cell_type": "code",
   "execution_count": 9,
   "id": "82f88e40-b345-451e-8241-83c21f4a591c",
   "metadata": {},
   "outputs": [],
   "source": [
    "# Criando uma nova tupla\n",
    "tupla2 = ('A','B','C')"
   ]
  },
  {
   "cell_type": "code",
   "execution_count": 10,
   "id": "1f9cabca-d5cb-4a3c-ae42-d084ebc579ad",
   "metadata": {},
   "outputs": [
    {
     "data": {
      "text/plain": [
       "('A', 'B', 'C')"
      ]
     },
     "execution_count": 10,
     "metadata": {},
     "output_type": "execute_result"
    }
   ],
   "source": [
    "tupla2"
   ]
  },
  {
   "cell_type": "code",
   "execution_count": 11,
   "id": "0e223754-a1e4-4f72-9bbb-8c8f3df4d11e",
   "metadata": {},
   "outputs": [],
   "source": [
    "# usando a função list() para converter uma tupla para lista\n",
    "tupla3 = list(tupla2)"
   ]
  },
  {
   "cell_type": "code",
   "execution_count": 12,
   "id": "5c6d3dff-6ac2-4628-90d4-30bde5fdf242",
   "metadata": {},
   "outputs": [
    {
     "data": {
      "text/plain": [
       "['A', 'B', 'C']"
      ]
     },
     "execution_count": 12,
     "metadata": {},
     "output_type": "execute_result"
    }
   ],
   "source": [
    "tupla3"
   ]
  },
  {
   "cell_type": "code",
   "execution_count": 13,
   "id": "9d1ed23a-7ea0-4c80-a3df-cb0ad5cbb5bc",
   "metadata": {},
   "outputs": [],
   "source": [
    "tupla3.append('D')"
   ]
  },
  {
   "cell_type": "code",
   "execution_count": 14,
   "id": "5a73dd07-dc67-4db5-b30d-f31b2459ac8d",
   "metadata": {},
   "outputs": [
    {
     "data": {
      "text/plain": [
       "['A', 'B', 'C', 'D']"
      ]
     },
     "execution_count": 14,
     "metadata": {},
     "output_type": "execute_result"
    }
   ],
   "source": [
    "tupla3"
   ]
  },
  {
   "cell_type": "code",
   "execution_count": 15,
   "id": "ea8ee974-0937-4014-9677-2274cf9c16bf",
   "metadata": {},
   "outputs": [],
   "source": [
    "# Usando tuple() para converte uma lista para tupla\n",
    "tupla2 = tuple(tupla3)"
   ]
  },
  {
   "cell_type": "code",
   "execution_count": 16,
   "id": "64547b80-963b-4ab1-81a8-dad73e41a719",
   "metadata": {},
   "outputs": [
    {
     "data": {
      "text/plain": [
       "('A', 'B', 'C', 'D')"
      ]
     },
     "execution_count": 16,
     "metadata": {},
     "output_type": "execute_result"
    }
   ],
   "source": [
    "tupla2"
   ]
  },
  {
   "cell_type": "code",
   "execution_count": null,
   "id": "bf8dcd39-1bdd-4c3e-9770-7ca594e4100c",
   "metadata": {},
   "outputs": [],
   "source": []
  }
 ],
 "metadata": {
  "kernelspec": {
   "display_name": "Python 3 (ipykernel)",
   "language": "python",
   "name": "python3"
  },
  "language_info": {
   "codemirror_mode": {
    "name": "ipython",
    "version": 3
   },
   "file_extension": ".py",
   "mimetype": "text/x-python",
   "name": "python",
   "nbconvert_exporter": "python",
   "pygments_lexer": "ipython3",
   "version": "3.12.7"
  }
 },
 "nbformat": 4,
 "nbformat_minor": 5
}
